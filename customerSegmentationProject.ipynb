{
 "cells": [
  {
   "cell_type": "markdown",
   "id": "1757e5a5",
   "metadata": {},
   "source": [
    "## Libraries "
   ]
  },
  {
   "cell_type": "code",
   "execution_count": 2,
   "id": "ce3421b7",
   "metadata": {},
   "outputs": [],
   "source": [
    "import pandas as pd\n",
    "import numpy as np\n",
    "import seaborn as sns\n",
    "import matplotlib.pyplot as plt\n",
    "import nltk\n",
    "import warnings\n",
    "import sys\n",
    "import datetime\n",
    "\n",
    "from IPython.display import display\n",
    "from kmodes.kmodes import KModes\n",
    "\n",
    "from sklearn.preprocessing import StandardScaler\n",
    "\n",
    "from sklearn.cluster import KMeans\n",
    "from sklearn.model_selection import GridSearchCV, RandomizedSearchCV, learning_curve\n",
    "from sklearn.model_selection import train_test_split\n",
    "from sklearn.svm import SVC\n",
    "from sklearn.ensemble import RandomForestClassifier, AdaBoostClassifier, GradientBoostingClassifier, VotingClassifier\n",
    "from sklearn.neighbors import KNeighborsClassifier\n",
    "from sklearn.linear_model import LogisticRegression\n",
    "from sklearn.tree import DecisionTreeClassifier\n",
    "\n",
    "from sklearn.metrics import silhouette_score, calinski_harabasz_score, accuracy_score\n",
    "\n",
    "from yellowbrick.cluster import KElbowVisualizer, SilhouetteVisualizer\n",
    "\n",
    "warnings.filterwarnings(\"ignore\")"
   ]
  },
  {
   "cell_type": "markdown",
   "id": "5571577e",
   "metadata": {},
   "source": [
    "# <font color=blue>*Data Preprocessing*</font>"
   ]
  },
  {
   "cell_type": "markdown",
   "id": "34add652",
   "metadata": {},
   "source": [
    "## Import Data "
   ]
  },
  {
   "cell_type": "code",
   "execution_count": 3,
   "id": "1b8ec072",
   "metadata": {},
   "outputs": [
    {
     "data": {
      "text/html": [
       "<div>\n",
       "<style scoped>\n",
       "    .dataframe tbody tr th:only-of-type {\n",
       "        vertical-align: middle;\n",
       "    }\n",
       "\n",
       "    .dataframe tbody tr th {\n",
       "        vertical-align: top;\n",
       "    }\n",
       "\n",
       "    .dataframe thead th {\n",
       "        text-align: right;\n",
       "    }\n",
       "</style>\n",
       "<table border=\"1\" class=\"dataframe\">\n",
       "  <thead>\n",
       "    <tr style=\"text-align: right;\">\n",
       "      <th></th>\n",
       "      <th>InvoiceNo</th>\n",
       "      <th>StockCode</th>\n",
       "      <th>Description</th>\n",
       "      <th>Quantity</th>\n",
       "      <th>InvoiceDate</th>\n",
       "      <th>UnitPrice</th>\n",
       "      <th>CustomerID</th>\n",
       "      <th>Country</th>\n",
       "    </tr>\n",
       "  </thead>\n",
       "  <tbody>\n",
       "    <tr>\n",
       "      <th>0</th>\n",
       "      <td>536365</td>\n",
       "      <td>85123A</td>\n",
       "      <td>WHITE HANGING HEART T-LIGHT HOLDER</td>\n",
       "      <td>6</td>\n",
       "      <td>12/1/2010 8:26</td>\n",
       "      <td>2.55</td>\n",
       "      <td>17850</td>\n",
       "      <td>United Kingdom</td>\n",
       "    </tr>\n",
       "    <tr>\n",
       "      <th>1</th>\n",
       "      <td>536365</td>\n",
       "      <td>71053</td>\n",
       "      <td>WHITE METAL LANTERN</td>\n",
       "      <td>6</td>\n",
       "      <td>12/1/2010 8:26</td>\n",
       "      <td>3.39</td>\n",
       "      <td>17850</td>\n",
       "      <td>United Kingdom</td>\n",
       "    </tr>\n",
       "    <tr>\n",
       "      <th>2</th>\n",
       "      <td>536365</td>\n",
       "      <td>84406B</td>\n",
       "      <td>CREAM CUPID HEARTS COAT HANGER</td>\n",
       "      <td>8</td>\n",
       "      <td>12/1/2010 8:26</td>\n",
       "      <td>2.75</td>\n",
       "      <td>17850</td>\n",
       "      <td>United Kingdom</td>\n",
       "    </tr>\n",
       "    <tr>\n",
       "      <th>3</th>\n",
       "      <td>536365</td>\n",
       "      <td>84029G</td>\n",
       "      <td>KNITTED UNION FLAG HOT WATER BOTTLE</td>\n",
       "      <td>6</td>\n",
       "      <td>12/1/2010 8:26</td>\n",
       "      <td>3.39</td>\n",
       "      <td>17850</td>\n",
       "      <td>United Kingdom</td>\n",
       "    </tr>\n",
       "    <tr>\n",
       "      <th>4</th>\n",
       "      <td>536365</td>\n",
       "      <td>84029E</td>\n",
       "      <td>RED WOOLLY HOTTIE WHITE HEART.</td>\n",
       "      <td>6</td>\n",
       "      <td>12/1/2010 8:26</td>\n",
       "      <td>3.39</td>\n",
       "      <td>17850</td>\n",
       "      <td>United Kingdom</td>\n",
       "    </tr>\n",
       "  </tbody>\n",
       "</table>\n",
       "</div>"
      ],
      "text/plain": [
       "  InvoiceNo StockCode                          Description  Quantity  \\\n",
       "0    536365    85123A   WHITE HANGING HEART T-LIGHT HOLDER         6   \n",
       "1    536365     71053                  WHITE METAL LANTERN         6   \n",
       "2    536365    84406B       CREAM CUPID HEARTS COAT HANGER         8   \n",
       "3    536365    84029G  KNITTED UNION FLAG HOT WATER BOTTLE         6   \n",
       "4    536365    84029E       RED WOOLLY HOTTIE WHITE HEART.         6   \n",
       "\n",
       "      InvoiceDate  UnitPrice CustomerID         Country  \n",
       "0  12/1/2010 8:26       2.55      17850  United Kingdom  \n",
       "1  12/1/2010 8:26       3.39      17850  United Kingdom  \n",
       "2  12/1/2010 8:26       2.75      17850  United Kingdom  \n",
       "3  12/1/2010 8:26       3.39      17850  United Kingdom  \n",
       "4  12/1/2010 8:26       3.39      17850  United Kingdom  "
      ]
     },
     "metadata": {},
     "output_type": "display_data"
    },
    {
     "name": "stdout",
     "output_type": "stream",
     "text": [
      "\n",
      "DATA INFORMATION:\n",
      "<class 'pandas.core.frame.DataFrame'>\n",
      "RangeIndex: 541909 entries, 0 to 541908\n",
      "Data columns (total 8 columns):\n",
      " #   Column       Non-Null Count   Dtype         \n",
      "---  ------       --------------   -----         \n",
      " 0   InvoiceNo    541909 non-null  object        \n",
      " 1   StockCode    541909 non-null  object        \n",
      " 2   Description  540455 non-null  object        \n",
      " 3   Quantity     541909 non-null  int64         \n",
      " 4   InvoiceDate  541909 non-null  datetime64[ns]\n",
      " 5   UnitPrice    541909 non-null  float64       \n",
      " 6   CustomerID   406829 non-null  object        \n",
      " 7   Country      541909 non-null  object        \n",
      "dtypes: datetime64[ns](1), float64(1), int64(1), object(5)\n",
      "memory usage: 33.1+ MB\n",
      "None\n"
     ]
    }
   ],
   "source": [
    "#read the .csv file\n",
    "#change the data-types for columns such as \"InvoiceNo\", \"CustomerID\"\n",
    "df = pd.read_csv(\"data.csv\",encoding='ISO-8859-1',dtype={'InvoiceNo':'str','CustomerID':'str'})\n",
    "display(df.head())\n",
    "\n",
    "#convert \"InvoiceDate\" to datetime object\n",
    "df['InvoiceDate'] = pd.to_datetime(df['InvoiceDate'])\n",
    "\n",
    "print(\"\\nDATA INFORMATION:\")\n",
    "print(df.info())\n"
   ]
  },
  {
   "cell_type": "markdown",
   "id": "d250960f",
   "metadata": {},
   "source": [
    "## <font color=red>**NULL Values**</font>"
   ]
  },
  {
   "cell_type": "code",
   "execution_count": 4,
   "id": "375b14c2",
   "metadata": {},
   "outputs": [
    {
     "name": "stdout",
     "output_type": "stream",
     "text": [
      "\n",
      "DATA DIMENSION(row,cols):\n",
      " (541909, 8)\n"
     ]
    },
    {
     "data": {
      "text/html": [
       "<div>\n",
       "<style scoped>\n",
       "    .dataframe tbody tr th:only-of-type {\n",
       "        vertical-align: middle;\n",
       "    }\n",
       "\n",
       "    .dataframe tbody tr th {\n",
       "        vertical-align: top;\n",
       "    }\n",
       "\n",
       "    .dataframe thead th {\n",
       "        text-align: right;\n",
       "    }\n",
       "</style>\n",
       "<table border=\"1\" class=\"dataframe\">\n",
       "  <thead>\n",
       "    <tr style=\"text-align: right;\">\n",
       "      <th></th>\n",
       "      <th>Attributes</th>\n",
       "      <th>Null Values</th>\n",
       "      <th>NaN(%)</th>\n",
       "    </tr>\n",
       "  </thead>\n",
       "  <tbody>\n",
       "    <tr>\n",
       "      <th>0</th>\n",
       "      <td>InvoiceNo</td>\n",
       "      <td>0</td>\n",
       "      <td>0.000000</td>\n",
       "    </tr>\n",
       "    <tr>\n",
       "      <th>1</th>\n",
       "      <td>StockCode</td>\n",
       "      <td>0</td>\n",
       "      <td>0.000000</td>\n",
       "    </tr>\n",
       "    <tr>\n",
       "      <th>2</th>\n",
       "      <td>Description</td>\n",
       "      <td>1454</td>\n",
       "      <td>0.268311</td>\n",
       "    </tr>\n",
       "    <tr>\n",
       "      <th>3</th>\n",
       "      <td>Quantity</td>\n",
       "      <td>0</td>\n",
       "      <td>0.000000</td>\n",
       "    </tr>\n",
       "    <tr>\n",
       "      <th>4</th>\n",
       "      <td>InvoiceDate</td>\n",
       "      <td>0</td>\n",
       "      <td>0.000000</td>\n",
       "    </tr>\n",
       "    <tr>\n",
       "      <th>5</th>\n",
       "      <td>UnitPrice</td>\n",
       "      <td>0</td>\n",
       "      <td>0.000000</td>\n",
       "    </tr>\n",
       "    <tr>\n",
       "      <th>6</th>\n",
       "      <td>CustomerID</td>\n",
       "      <td>135080</td>\n",
       "      <td>24.926694</td>\n",
       "    </tr>\n",
       "    <tr>\n",
       "      <th>7</th>\n",
       "      <td>Country</td>\n",
       "      <td>0</td>\n",
       "      <td>0.000000</td>\n",
       "    </tr>\n",
       "  </tbody>\n",
       "</table>\n",
       "</div>"
      ],
      "text/plain": [
       "    Attributes  Null Values     NaN(%)\n",
       "0    InvoiceNo            0   0.000000\n",
       "1    StockCode            0   0.000000\n",
       "2  Description         1454   0.268311\n",
       "3     Quantity            0   0.000000\n",
       "4  InvoiceDate            0   0.000000\n",
       "5    UnitPrice            0   0.000000\n",
       "6   CustomerID       135080  24.926694\n",
       "7      Country            0   0.000000"
      ]
     },
     "metadata": {},
     "output_type": "display_data"
    }
   ],
   "source": [
    "# find and display null values and % of this in the dataset\n",
    "df.isnull().sum().values\n",
    "\n",
    "#dict and dataFrame to diplay null values\n",
    "nullv_dict = {'Attributes': df.columns,\n",
    "              'Null Values': df.isnull().sum().values,\n",
    "              'NaN(%)': (df.isnull().sum().values/df.shape[0])*100}\n",
    "nullv_df = pd.DataFrame(nullv_dict)\n",
    "\n",
    "print(\"\\nDATA DIMENSION(row,cols):\\n\",df.shape)\n",
    "\n",
    "display(nullv_df)\n",
    "\n"
   ]
  },
  {
   "cell_type": "markdown",
   "id": "a6cbcdee",
   "metadata": {},
   "source": [
    "### <font color=\"green\">Insight-1</font>\n",
    "- Approximately **25%** entries are not associated with **CustomerID**\n",
    "- With the data available, it is **not possible** to impute these values \n",
    "- So, we will remove them from the dataset"
   ]
  },
  {
   "cell_type": "markdown",
   "id": "78cd5316",
   "metadata": {},
   "source": [
    "## <font color=red>**Removing NULL Values**</font>"
   ]
  },
  {
   "cell_type": "code",
   "execution_count": 5,
   "id": "cad8eb92",
   "metadata": {},
   "outputs": [
    {
     "name": "stdout",
     "output_type": "stream",
     "text": [
      "\n",
      "DATA DIMENSION(row,cols):\n",
      " (406829, 8)\n"
     ]
    },
    {
     "data": {
      "text/html": [
       "<div>\n",
       "<style scoped>\n",
       "    .dataframe tbody tr th:only-of-type {\n",
       "        vertical-align: middle;\n",
       "    }\n",
       "\n",
       "    .dataframe tbody tr th {\n",
       "        vertical-align: top;\n",
       "    }\n",
       "\n",
       "    .dataframe thead th {\n",
       "        text-align: right;\n",
       "    }\n",
       "</style>\n",
       "<table border=\"1\" class=\"dataframe\">\n",
       "  <thead>\n",
       "    <tr style=\"text-align: right;\">\n",
       "      <th></th>\n",
       "      <th>Attributes</th>\n",
       "      <th>Null Values</th>\n",
       "      <th>NaN(%)</th>\n",
       "    </tr>\n",
       "  </thead>\n",
       "  <tbody>\n",
       "    <tr>\n",
       "      <th>0</th>\n",
       "      <td>InvoiceNo</td>\n",
       "      <td>0</td>\n",
       "      <td>0.0</td>\n",
       "    </tr>\n",
       "    <tr>\n",
       "      <th>1</th>\n",
       "      <td>StockCode</td>\n",
       "      <td>0</td>\n",
       "      <td>0.0</td>\n",
       "    </tr>\n",
       "    <tr>\n",
       "      <th>2</th>\n",
       "      <td>Description</td>\n",
       "      <td>0</td>\n",
       "      <td>0.0</td>\n",
       "    </tr>\n",
       "    <tr>\n",
       "      <th>3</th>\n",
       "      <td>Quantity</td>\n",
       "      <td>0</td>\n",
       "      <td>0.0</td>\n",
       "    </tr>\n",
       "    <tr>\n",
       "      <th>4</th>\n",
       "      <td>InvoiceDate</td>\n",
       "      <td>0</td>\n",
       "      <td>0.0</td>\n",
       "    </tr>\n",
       "    <tr>\n",
       "      <th>5</th>\n",
       "      <td>UnitPrice</td>\n",
       "      <td>0</td>\n",
       "      <td>0.0</td>\n",
       "    </tr>\n",
       "    <tr>\n",
       "      <th>6</th>\n",
       "      <td>CustomerID</td>\n",
       "      <td>0</td>\n",
       "      <td>0.0</td>\n",
       "    </tr>\n",
       "    <tr>\n",
       "      <th>7</th>\n",
       "      <td>Country</td>\n",
       "      <td>0</td>\n",
       "      <td>0.0</td>\n",
       "    </tr>\n",
       "  </tbody>\n",
       "</table>\n",
       "</div>"
      ],
      "text/plain": [
       "    Attributes  Null Values  NaN(%)\n",
       "0    InvoiceNo            0     0.0\n",
       "1    StockCode            0     0.0\n",
       "2  Description            0     0.0\n",
       "3     Quantity            0     0.0\n",
       "4  InvoiceDate            0     0.0\n",
       "5    UnitPrice            0     0.0\n",
       "6   CustomerID            0     0.0\n",
       "7      Country            0     0.0"
      ]
     },
     "metadata": {},
     "output_type": "display_data"
    }
   ],
   "source": [
    "# drop rows with \"CustomerID\" null \n",
    "df.dropna(subset=['CustomerID'],inplace=True)\n",
    "\n",
    "#dict and dataFrame to diplay null values\n",
    "nullv_dict = {'Attributes': df.columns,\n",
    "              'Null Values': df.isnull().sum().values,\n",
    "              'NaN(%)': (df.isnull().sum().values/df.shape[0])*100}\n",
    "nullv_df = pd.DataFrame(nullv_dict)\n",
    "\n",
    "print(\"\\nDATA DIMENSION(row,cols):\\n\",df.shape)\n",
    "\n",
    "display(nullv_df)"
   ]
  },
  {
   "cell_type": "markdown",
   "id": "b3d24484",
   "metadata": {},
   "source": [
    "## <font color=red>**Duplicate Entries**</font>"
   ]
  },
  {
   "cell_type": "code",
   "execution_count": 6,
   "id": "1f35b5ae",
   "metadata": {},
   "outputs": [
    {
     "name": "stdout",
     "output_type": "stream",
     "text": [
      "Total Duplicated Entries(before deletion): 5225 \n",
      "\n",
      "Total Duplicated Entries(after deletion): 0 \n",
      "\n",
      "DATA DIMENSION(row,cols):\n",
      " (401604, 8)\n"
     ]
    }
   ],
   "source": [
    "# find duplicate entries if any\n",
    "print(\"Total Duplicated Entries(before deletion):\",df.duplicated().sum(),\"\\n\")\n",
    "\n",
    "#remove these 5225 entries from the dataset\n",
    "df.drop_duplicates(inplace=True)\n",
    "\n",
    "#check for duplicates\n",
    "print(\"Total Duplicated Entries(after deletion):\",df.duplicated().sum(),\"\\n\")\n",
    "\n",
    "print(\"DATA DIMENSION(row,cols):\\n\",df.shape)"
   ]
  },
  {
   "cell_type": "markdown",
   "id": "7847ca03",
   "metadata": {},
   "source": [
    "# <font color=blue>*Exploratory Data Analysis*</font>"
   ]
  },
  {
   "cell_type": "markdown",
   "id": "e8b70012",
   "metadata": {},
   "source": [
    "### <font color=\"green\">Attributes Classification:</font>\n",
    "- **InvoiceNo:** **_Nominal_** Six-digit unique number for each Transcation. 'c' stands for cancellation. \n",
    "- **StockCode:** **_Nominal_** Five-digit unique number for each distinct product. \n",
    "- **Description:** **_Nominal_** Product Name and short Description. \n",
    "- **Quantity:** **_Numeric_** Amount of each product per transcation. \n",
    "- **InvoiceDate:** **_Numeric_** Date and Time when each transcation occured. \n",
    "- **UnitPrice:** **_Numeric_** Product Price in Sterling Pounds per unit. \n",
    "- **CustomerID:** **_Nominal_** Five-digit integral number assigned to each customer. \n",
    "- **Country:** **_Nominal_** Country Name of Customer Residence. "
   ]
  },
  {
   "cell_type": "markdown",
   "id": "94cc5297",
   "metadata": {},
   "source": [
    "## Country "
   ]
  },
  {
   "cell_type": "code",
   "execution_count": 7,
   "id": "0af736bf",
   "metadata": {},
   "outputs": [
    {
     "name": "stdout",
     "output_type": "stream",
     "text": [
      "Total number of countries: 37\n"
     ]
    },
    {
     "data": {
      "text/html": [
       "<div>\n",
       "<style scoped>\n",
       "    .dataframe tbody tr th:only-of-type {\n",
       "        vertical-align: middle;\n",
       "    }\n",
       "\n",
       "    .dataframe tbody tr th {\n",
       "        vertical-align: top;\n",
       "    }\n",
       "\n",
       "    .dataframe thead th {\n",
       "        text-align: right;\n",
       "    }\n",
       "</style>\n",
       "<table border=\"1\" class=\"dataframe\">\n",
       "  <thead>\n",
       "    <tr style=\"text-align: right;\">\n",
       "      <th></th>\n",
       "      <th>Country</th>\n",
       "      <th>Number of orders</th>\n",
       "    </tr>\n",
       "  </thead>\n",
       "  <tbody>\n",
       "    <tr>\n",
       "      <th>0</th>\n",
       "      <td>United Kingdom</td>\n",
       "      <td>19857</td>\n",
       "    </tr>\n",
       "    <tr>\n",
       "      <th>1</th>\n",
       "      <td>Germany</td>\n",
       "      <td>603</td>\n",
       "    </tr>\n",
       "    <tr>\n",
       "      <th>2</th>\n",
       "      <td>France</td>\n",
       "      <td>458</td>\n",
       "    </tr>\n",
       "    <tr>\n",
       "      <th>3</th>\n",
       "      <td>EIRE</td>\n",
       "      <td>319</td>\n",
       "    </tr>\n",
       "    <tr>\n",
       "      <th>4</th>\n",
       "      <td>Belgium</td>\n",
       "      <td>119</td>\n",
       "    </tr>\n",
       "    <tr>\n",
       "      <th>5</th>\n",
       "      <td>Spain</td>\n",
       "      <td>105</td>\n",
       "    </tr>\n",
       "    <tr>\n",
       "      <th>6</th>\n",
       "      <td>Netherlands</td>\n",
       "      <td>101</td>\n",
       "    </tr>\n",
       "    <tr>\n",
       "      <th>7</th>\n",
       "      <td>Switzerland</td>\n",
       "      <td>71</td>\n",
       "    </tr>\n",
       "    <tr>\n",
       "      <th>8</th>\n",
       "      <td>Portugal</td>\n",
       "      <td>70</td>\n",
       "    </tr>\n",
       "    <tr>\n",
       "      <th>9</th>\n",
       "      <td>Australia</td>\n",
       "      <td>69</td>\n",
       "    </tr>\n",
       "    <tr>\n",
       "      <th>10</th>\n",
       "      <td>Italy</td>\n",
       "      <td>55</td>\n",
       "    </tr>\n",
       "    <tr>\n",
       "      <th>11</th>\n",
       "      <td>Finland</td>\n",
       "      <td>48</td>\n",
       "    </tr>\n",
       "    <tr>\n",
       "      <th>12</th>\n",
       "      <td>Sweden</td>\n",
       "      <td>46</td>\n",
       "    </tr>\n",
       "    <tr>\n",
       "      <th>13</th>\n",
       "      <td>Norway</td>\n",
       "      <td>40</td>\n",
       "    </tr>\n",
       "    <tr>\n",
       "      <th>14</th>\n",
       "      <td>Channel Islands</td>\n",
       "      <td>33</td>\n",
       "    </tr>\n",
       "    <tr>\n",
       "      <th>15</th>\n",
       "      <td>Japan</td>\n",
       "      <td>28</td>\n",
       "    </tr>\n",
       "    <tr>\n",
       "      <th>16</th>\n",
       "      <td>Poland</td>\n",
       "      <td>24</td>\n",
       "    </tr>\n",
       "    <tr>\n",
       "      <th>17</th>\n",
       "      <td>Denmark</td>\n",
       "      <td>21</td>\n",
       "    </tr>\n",
       "    <tr>\n",
       "      <th>18</th>\n",
       "      <td>Cyprus</td>\n",
       "      <td>20</td>\n",
       "    </tr>\n",
       "    <tr>\n",
       "      <th>19</th>\n",
       "      <td>Austria</td>\n",
       "      <td>19</td>\n",
       "    </tr>\n",
       "    <tr>\n",
       "      <th>20</th>\n",
       "      <td>Singapore</td>\n",
       "      <td>10</td>\n",
       "    </tr>\n",
       "    <tr>\n",
       "      <th>21</th>\n",
       "      <td>Malta</td>\n",
       "      <td>10</td>\n",
       "    </tr>\n",
       "    <tr>\n",
       "      <th>22</th>\n",
       "      <td>Unspecified</td>\n",
       "      <td>8</td>\n",
       "    </tr>\n",
       "    <tr>\n",
       "      <th>23</th>\n",
       "      <td>USA</td>\n",
       "      <td>7</td>\n",
       "    </tr>\n",
       "    <tr>\n",
       "      <th>24</th>\n",
       "      <td>Iceland</td>\n",
       "      <td>7</td>\n",
       "    </tr>\n",
       "    <tr>\n",
       "      <th>25</th>\n",
       "      <td>Israel</td>\n",
       "      <td>6</td>\n",
       "    </tr>\n",
       "    <tr>\n",
       "      <th>26</th>\n",
       "      <td>Canada</td>\n",
       "      <td>6</td>\n",
       "    </tr>\n",
       "    <tr>\n",
       "      <th>27</th>\n",
       "      <td>Greece</td>\n",
       "      <td>6</td>\n",
       "    </tr>\n",
       "    <tr>\n",
       "      <th>28</th>\n",
       "      <td>Czech Republic</td>\n",
       "      <td>5</td>\n",
       "    </tr>\n",
       "    <tr>\n",
       "      <th>29</th>\n",
       "      <td>European Community</td>\n",
       "      <td>5</td>\n",
       "    </tr>\n",
       "    <tr>\n",
       "      <th>30</th>\n",
       "      <td>Lithuania</td>\n",
       "      <td>4</td>\n",
       "    </tr>\n",
       "    <tr>\n",
       "      <th>31</th>\n",
       "      <td>United Arab Emirates</td>\n",
       "      <td>3</td>\n",
       "    </tr>\n",
       "    <tr>\n",
       "      <th>32</th>\n",
       "      <td>Saudi Arabia</td>\n",
       "      <td>2</td>\n",
       "    </tr>\n",
       "    <tr>\n",
       "      <th>33</th>\n",
       "      <td>Bahrain</td>\n",
       "      <td>2</td>\n",
       "    </tr>\n",
       "    <tr>\n",
       "      <th>34</th>\n",
       "      <td>RSA</td>\n",
       "      <td>1</td>\n",
       "    </tr>\n",
       "    <tr>\n",
       "      <th>35</th>\n",
       "      <td>Lebanon</td>\n",
       "      <td>1</td>\n",
       "    </tr>\n",
       "    <tr>\n",
       "      <th>36</th>\n",
       "      <td>Brazil</td>\n",
       "      <td>1</td>\n",
       "    </tr>\n",
       "  </tbody>\n",
       "</table>\n",
       "</div>"
      ],
      "text/plain": [
       "                 Country  Number of orders\n",
       "0         United Kingdom             19857\n",
       "1                Germany               603\n",
       "2                 France               458\n",
       "3                   EIRE               319\n",
       "4                Belgium               119\n",
       "5                  Spain               105\n",
       "6            Netherlands               101\n",
       "7            Switzerland                71\n",
       "8               Portugal                70\n",
       "9              Australia                69\n",
       "10                 Italy                55\n",
       "11               Finland                48\n",
       "12                Sweden                46\n",
       "13                Norway                40\n",
       "14       Channel Islands                33\n",
       "15                 Japan                28\n",
       "16                Poland                24\n",
       "17               Denmark                21\n",
       "18                Cyprus                20\n",
       "19               Austria                19\n",
       "20             Singapore                10\n",
       "21                 Malta                10\n",
       "22           Unspecified                 8\n",
       "23                   USA                 7\n",
       "24               Iceland                 7\n",
       "25                Israel                 6\n",
       "26                Canada                 6\n",
       "27                Greece                 6\n",
       "28        Czech Republic                 5\n",
       "29    European Community                 5\n",
       "30             Lithuania                 4\n",
       "31  United Arab Emirates                 3\n",
       "32          Saudi Arabia                 2\n",
       "33               Bahrain                 2\n",
       "34                   RSA                 1\n",
       "35               Lebanon                 1\n",
       "36                Brazil                 1"
      ]
     },
     "metadata": {},
     "output_type": "display_data"
    },
    {
     "name": "stdout",
     "output_type": "stream",
     "text": [
      "Inference: Most of the orders were initiated from United Kingdom.\n"
     ]
    }
   ],
   "source": [
    "#information countries from where orders took place:\n",
    "cntry_df = df[['CustomerID','InvoiceNo','Country']]\n",
    "cntry_df = cntry_df.groupby(['CustomerID','InvoiceNo','Country']).count()\n",
    "cntry_df = cntry_df.reset_index()\n",
    "\n",
    "print(\"Total number of countries:\",len(cntry_df['Country'].value_counts().index))\n",
    "\n",
    "#dataFrame to display orders from each country\n",
    "disc_df = pd.DataFrame({'Country':cntry_df['Country'].value_counts().index, \n",
    "                        'Number of orders':cntry_df['Country'].value_counts().values})\n",
    "display(disc_df)\n",
    "\n",
    "print(\"Inference: Most of the orders were initiated from United Kingdom.\")"
   ]
  },
  {
   "cell_type": "markdown",
   "id": "24dd95ee",
   "metadata": {},
   "source": [
    "## Customer, Product and Invoice Details"
   ]
  },
  {
   "cell_type": "code",
   "execution_count": 8,
   "id": "70ea22b9",
   "metadata": {
    "scrolled": true
   },
   "outputs": [
    {
     "name": "stdout",
     "output_type": "stream",
     "text": [
      "Total number of Entries: 401604\n",
      "\n",
      "Total Unique Customers: 4372\n",
      "Total Unique Products: 3684\n",
      "Total Unique Invoices: 22190\n"
     ]
    }
   ],
   "source": [
    "print('Total number of Entries:',df.shape[0])\n",
    "\n",
    "#find number of unique customers, product and invoices\n",
    "print('\\nTotal Unique Customers:',len(df['CustomerID'].value_counts()))\n",
    "print('Total Unique Products:',len(df['StockCode'].value_counts()))\n",
    "print('Total Unique Invoices:',len(df['InvoiceNo'].value_counts()))"
   ]
  },
  {
   "cell_type": "markdown",
   "id": "a141e803",
   "metadata": {},
   "source": [
    "### <font color=\"green\">Insights-2</font>\n",
    "- Data consists of **4372** customers, and these users bought **3684** different products.\n",
    "- Total number of transcations are **22190**."
   ]
  },
  {
   "cell_type": "markdown",
   "id": "3ccb2c10",
   "metadata": {},
   "source": [
    "## Determine Products per Transcation"
   ]
  },
  {
   "cell_type": "code",
   "execution_count": 9,
   "id": "50496133",
   "metadata": {},
   "outputs": [
    {
     "name": "stdout",
     "output_type": "stream",
     "text": [
      "Sort by Number of Products:\n"
     ]
    },
    {
     "data": {
      "text/html": [
       "<div>\n",
       "<style scoped>\n",
       "    .dataframe tbody tr th:only-of-type {\n",
       "        vertical-align: middle;\n",
       "    }\n",
       "\n",
       "    .dataframe tbody tr th {\n",
       "        vertical-align: top;\n",
       "    }\n",
       "\n",
       "    .dataframe thead th {\n",
       "        text-align: right;\n",
       "    }\n",
       "</style>\n",
       "<table border=\"1\" class=\"dataframe\">\n",
       "  <thead>\n",
       "    <tr style=\"text-align: right;\">\n",
       "      <th></th>\n",
       "      <th>CustomerID</th>\n",
       "      <th>InvoiceNo</th>\n",
       "      <th>Number of Products</th>\n",
       "    </tr>\n",
       "  </thead>\n",
       "  <tbody>\n",
       "    <tr>\n",
       "      <th>0</th>\n",
       "      <td>12346</td>\n",
       "      <td>541431</td>\n",
       "      <td>1</td>\n",
       "    </tr>\n",
       "    <tr>\n",
       "      <th>12809</th>\n",
       "      <td>15615</td>\n",
       "      <td>C554874</td>\n",
       "      <td>1</td>\n",
       "    </tr>\n",
       "    <tr>\n",
       "      <th>12808</th>\n",
       "      <td>15615</td>\n",
       "      <td>C550454</td>\n",
       "      <td>1</td>\n",
       "    </tr>\n",
       "    <tr>\n",
       "      <th>12799</th>\n",
       "      <td>15615</td>\n",
       "      <td>562919</td>\n",
       "      <td>1</td>\n",
       "    </tr>\n",
       "    <tr>\n",
       "      <th>12791</th>\n",
       "      <td>15615</td>\n",
       "      <td>550450</td>\n",
       "      <td>1</td>\n",
       "    </tr>\n",
       "    <tr>\n",
       "      <th>...</th>\n",
       "      <td>...</td>\n",
       "      <td>...</td>\n",
       "      <td>...</td>\n",
       "    </tr>\n",
       "    <tr>\n",
       "      <th>6808</th>\n",
       "      <td>14096</td>\n",
       "      <td>573576</td>\n",
       "      <td>435</td>\n",
       "    </tr>\n",
       "    <tr>\n",
       "      <th>6811</th>\n",
       "      <td>14096</td>\n",
       "      <td>578270</td>\n",
       "      <td>442</td>\n",
       "    </tr>\n",
       "    <tr>\n",
       "      <th>6813</th>\n",
       "      <td>14096</td>\n",
       "      <td>580727</td>\n",
       "      <td>529</td>\n",
       "    </tr>\n",
       "    <tr>\n",
       "      <th>6812</th>\n",
       "      <td>14096</td>\n",
       "      <td>579196</td>\n",
       "      <td>533</td>\n",
       "    </tr>\n",
       "    <tr>\n",
       "      <th>6810</th>\n",
       "      <td>14096</td>\n",
       "      <td>576339</td>\n",
       "      <td>542</td>\n",
       "    </tr>\n",
       "  </tbody>\n",
       "</table>\n",
       "<p>22190 rows × 3 columns</p>\n",
       "</div>"
      ],
      "text/plain": [
       "      CustomerID InvoiceNo  Number of Products\n",
       "0          12346    541431                   1\n",
       "12809      15615   C554874                   1\n",
       "12808      15615   C550454                   1\n",
       "12799      15615    562919                   1\n",
       "12791      15615    550450                   1\n",
       "...          ...       ...                 ...\n",
       "6808       14096    573576                 435\n",
       "6811       14096    578270                 442\n",
       "6813       14096    580727                 529\n",
       "6812       14096    579196                 533\n",
       "6810       14096    576339                 542\n",
       "\n",
       "[22190 rows x 3 columns]"
      ]
     },
     "metadata": {},
     "output_type": "display_data"
    },
    {
     "name": "stdout",
     "output_type": "stream",
     "text": [
      "Sort by CustomerID:\n"
     ]
    },
    {
     "data": {
      "text/html": [
       "<div>\n",
       "<style scoped>\n",
       "    .dataframe tbody tr th:only-of-type {\n",
       "        vertical-align: middle;\n",
       "    }\n",
       "\n",
       "    .dataframe tbody tr th {\n",
       "        vertical-align: top;\n",
       "    }\n",
       "\n",
       "    .dataframe thead th {\n",
       "        text-align: right;\n",
       "    }\n",
       "</style>\n",
       "<table border=\"1\" class=\"dataframe\">\n",
       "  <thead>\n",
       "    <tr style=\"text-align: right;\">\n",
       "      <th></th>\n",
       "      <th>CustomerID</th>\n",
       "      <th>InvoiceNo</th>\n",
       "      <th>Number of Products</th>\n",
       "    </tr>\n",
       "  </thead>\n",
       "  <tbody>\n",
       "    <tr>\n",
       "      <th>0</th>\n",
       "      <td>12346</td>\n",
       "      <td>541431</td>\n",
       "      <td>1</td>\n",
       "    </tr>\n",
       "    <tr>\n",
       "      <th>1</th>\n",
       "      <td>12346</td>\n",
       "      <td>C541433</td>\n",
       "      <td>1</td>\n",
       "    </tr>\n",
       "    <tr>\n",
       "      <th>2</th>\n",
       "      <td>12347</td>\n",
       "      <td>537626</td>\n",
       "      <td>31</td>\n",
       "    </tr>\n",
       "    <tr>\n",
       "      <th>3</th>\n",
       "      <td>12347</td>\n",
       "      <td>542237</td>\n",
       "      <td>29</td>\n",
       "    </tr>\n",
       "    <tr>\n",
       "      <th>4</th>\n",
       "      <td>12347</td>\n",
       "      <td>549222</td>\n",
       "      <td>24</td>\n",
       "    </tr>\n",
       "  </tbody>\n",
       "</table>\n",
       "</div>"
      ],
      "text/plain": [
       "  CustomerID InvoiceNo  Number of Products\n",
       "0      12346    541431                   1\n",
       "1      12346   C541433                   1\n",
       "2      12347    537626                  31\n",
       "3      12347    542237                  29\n",
       "4      12347    549222                  24"
      ]
     },
     "metadata": {},
     "output_type": "display_data"
    }
   ],
   "source": [
    "#group by customerID and invoiceNo \n",
    "prod_per_trans = df.groupby(['CustomerID','InvoiceNo'],as_index=False)['StockCode'].count()\n",
    "prod_per_trans.rename(columns={'StockCode':'Number of Products'},inplace=True)\n",
    "\n",
    "#sorted by Invoice Number\n",
    "print(\"Sort by Number of Products:\")\n",
    "display(prod_per_trans.sort_values(by='Number of Products',ascending=True))\n",
    "\n",
    "#sort by Customer ID\n",
    "print(\"Sort by CustomerID:\")\n",
    "display(prod_per_trans[:5].sort_values(by='CustomerID',ascending=True))\n"
   ]
  },
  {
   "cell_type": "markdown",
   "id": "d6405911",
   "metadata": {},
   "source": [
    "### <font color=\"green\">Insights-3</font>\n",
    "- Number of products per transcation varies from **1** to **542**.\n",
    "- There exists entries with InvoiceNo starting with **_C_** meaning order cancellation.\n",
    "- There exists customers who came only once and bought **only one product(e.g. CustomerID=12346)**.\n",
    "- There exists customers who were **frequent** and bought **large** number of items in each transcation.**(e.g. CustomerID=14096)**"
   ]
  },
  {
   "cell_type": "markdown",
   "id": "35327511",
   "metadata": {},
   "source": [
    "## Orders Cancelled"
   ]
  },
  {
   "cell_type": "code",
   "execution_count": 10,
   "id": "d053d6b4",
   "metadata": {},
   "outputs": [
    {
     "name": "stdout",
     "output_type": "stream",
     "text": [
      "Total Orders Cancelled: 3654 \n",
      "\n",
      "Percentage comprising of Cancelled Orders: 16.466876971608833 %\n"
     ]
    },
    {
     "data": {
      "text/html": [
       "<div>\n",
       "<style scoped>\n",
       "    .dataframe tbody tr th:only-of-type {\n",
       "        vertical-align: middle;\n",
       "    }\n",
       "\n",
       "    .dataframe tbody tr th {\n",
       "        vertical-align: top;\n",
       "    }\n",
       "\n",
       "    .dataframe thead th {\n",
       "        text-align: right;\n",
       "    }\n",
       "</style>\n",
       "<table border=\"1\" class=\"dataframe\">\n",
       "  <thead>\n",
       "    <tr style=\"text-align: right;\">\n",
       "      <th></th>\n",
       "      <th>InvoiceNo</th>\n",
       "      <th>StockCode</th>\n",
       "      <th>Description</th>\n",
       "      <th>Quantity</th>\n",
       "      <th>InvoiceDate</th>\n",
       "      <th>UnitPrice</th>\n",
       "      <th>CustomerID</th>\n",
       "      <th>Country</th>\n",
       "    </tr>\n",
       "  </thead>\n",
       "  <tbody>\n",
       "    <tr>\n",
       "      <th>61619</th>\n",
       "      <td>541431</td>\n",
       "      <td>23166</td>\n",
       "      <td>MEDIUM CERAMIC TOP STORAGE JAR</td>\n",
       "      <td>74215</td>\n",
       "      <td>2011-01-18 10:01:00</td>\n",
       "      <td>1.04</td>\n",
       "      <td>12346</td>\n",
       "      <td>United Kingdom</td>\n",
       "    </tr>\n",
       "    <tr>\n",
       "      <th>61624</th>\n",
       "      <td>C541433</td>\n",
       "      <td>23166</td>\n",
       "      <td>MEDIUM CERAMIC TOP STORAGE JAR</td>\n",
       "      <td>-74215</td>\n",
       "      <td>2011-01-18 10:17:00</td>\n",
       "      <td>1.04</td>\n",
       "      <td>12346</td>\n",
       "      <td>United Kingdom</td>\n",
       "    </tr>\n",
       "    <tr>\n",
       "      <th>286623</th>\n",
       "      <td>562032</td>\n",
       "      <td>22375</td>\n",
       "      <td>AIRLINE BAG VINTAGE JET SET BROWN</td>\n",
       "      <td>4</td>\n",
       "      <td>2011-08-02 08:48:00</td>\n",
       "      <td>4.25</td>\n",
       "      <td>12347</td>\n",
       "      <td>Iceland</td>\n",
       "    </tr>\n",
       "    <tr>\n",
       "      <th>72260</th>\n",
       "      <td>542237</td>\n",
       "      <td>84991</td>\n",
       "      <td>60 TEATIME FAIRY CAKE CASES</td>\n",
       "      <td>24</td>\n",
       "      <td>2011-01-26 14:30:00</td>\n",
       "      <td>0.55</td>\n",
       "      <td>12347</td>\n",
       "      <td>Iceland</td>\n",
       "    </tr>\n",
       "    <tr>\n",
       "      <th>14943</th>\n",
       "      <td>537626</td>\n",
       "      <td>22772</td>\n",
       "      <td>PINK DRAWER KNOB ACRYLIC EDWARDIAN</td>\n",
       "      <td>12</td>\n",
       "      <td>2010-12-07 14:57:00</td>\n",
       "      <td>1.25</td>\n",
       "      <td>12347</td>\n",
       "      <td>Iceland</td>\n",
       "    </tr>\n",
       "  </tbody>\n",
       "</table>\n",
       "</div>"
      ],
      "text/plain": [
       "       InvoiceNo StockCode                         Description  Quantity  \\\n",
       "61619     541431     23166      MEDIUM CERAMIC TOP STORAGE JAR     74215   \n",
       "61624    C541433     23166      MEDIUM CERAMIC TOP STORAGE JAR    -74215   \n",
       "286623    562032     22375   AIRLINE BAG VINTAGE JET SET BROWN         4   \n",
       "72260     542237     84991         60 TEATIME FAIRY CAKE CASES        24   \n",
       "14943     537626     22772  PINK DRAWER KNOB ACRYLIC EDWARDIAN        12   \n",
       "\n",
       "               InvoiceDate  UnitPrice CustomerID         Country  \n",
       "61619  2011-01-18 10:01:00       1.04      12346  United Kingdom  \n",
       "61624  2011-01-18 10:17:00       1.04      12346  United Kingdom  \n",
       "286623 2011-08-02 08:48:00       4.25      12347         Iceland  \n",
       "72260  2011-01-26 14:30:00       0.55      12347         Iceland  \n",
       "14943  2010-12-07 14:57:00       1.25      12347         Iceland  "
      ]
     },
     "metadata": {},
     "output_type": "display_data"
    }
   ],
   "source": [
    "#total cancelled orders\n",
    "tot_ord_canc = prod_per_trans['InvoiceNo'].str.contains('C').sum()\n",
    "print(\"Total Orders Cancelled:\",tot_ord_canc,\"\\n\")\n",
    "\n",
    "#how much percentage comprises of cancelled orders in the dataframe\n",
    "print(\"Percentage comprising of Cancelled Orders:\",(tot_ord_canc/prod_per_trans.shape[0])*100,\"%\")\n",
    "\n",
    "#again looking at the dataset\n",
    "display(df.sort_values(by='CustomerID').head())"
   ]
  },
  {
   "cell_type": "markdown",
   "id": "0172f884",
   "metadata": {},
   "source": [
    "### <font color=\"green\">Insights-4</font>\n",
    "- Number of canceled orders are **3654** which is approximately 16% of total orders.\n",
    "- For canceled orders, we have other entries which mostly identical except for **_Quantity_** and **_InvoiceDate_**."
   ]
  },
  {
   "cell_type": "markdown",
   "id": "fca0b416",
   "metadata": {},
   "source": [
    "## Hypothesis-1: Check if all other entries are identical or not."
   ]
  },
  {
   "cell_type": "code",
   "execution_count": 11,
   "id": "e61304e8",
   "metadata": {},
   "outputs": [
    {
     "name": "stdout",
     "output_type": "stream",
     "text": [
      "StockCode             D\n",
      "Description    Discount\n",
      "Quantity             -1\n",
      "UnitPrice          27.5\n",
      "CustomerID        14527\n",
      "Name: 141, dtype: object\n"
     ]
    }
   ],
   "source": [
    "#look for same quantity but positive, and same CustomerID, Description and Unit Price.\n",
    "hyp1_df = df[df['Quantity']<0][['StockCode','Description','Quantity','UnitPrice','CustomerID']]\n",
    "\n",
    "#find entries which does not match the hypothesis\n",
    "for i,row in hyp1_df.iterrows():\n",
    "    # if not entry found\n",
    "    if df[(df['CustomerID']==row[4]) & (df['Description']==row[1]) & (df['Quantity']==-row[2])].shape[0] == 0:\n",
    "        print(hyp1_df.loc[i])\n",
    "        break\n",
    "        "
   ]
  },
  {
   "cell_type": "markdown",
   "id": "138de214",
   "metadata": {},
   "source": [
    "### <font color=red>Hypothesis:1 Failed</font>\n",
    "- As there are discount entries in the dataset, our hypothesis failed.\n",
    "- So, we will try again and won't consider these **Discount** Entries."
   ]
  },
  {
   "cell_type": "markdown",
   "id": "1f42260c",
   "metadata": {},
   "source": [
    "## Hypothesis 2: Without Discount Entries"
   ]
  },
  {
   "cell_type": "code",
   "execution_count": 12,
   "id": "5b963c07",
   "metadata": {},
   "outputs": [
    {
     "name": "stdout",
     "output_type": "stream",
     "text": [
      "StockCode                               35004C\n",
      "Description    SET OF 3 COLOURED  FLYING DUCKS\n",
      "Quantity                                    -1\n",
      "UnitPrice                                 4.65\n",
      "CustomerID                               15311\n",
      "Name: 154, dtype: object\n"
     ]
    }
   ],
   "source": [
    "#look for same quantity but positive, and same CustomerID, Description and Unit Price.\n",
    "hyp2_df = df[(df['Quantity']<0) & (df['Description'] != 'Discount')][['StockCode','Description','Quantity','UnitPrice','CustomerID']]\n",
    "\n",
    "#find entries which does not match the hypothesis\n",
    "for i,row in hyp2_df.iterrows():\n",
    "    # if not entry found\n",
    "    if df[(df['CustomerID']==row[4]) & (df['Description']==row[1]) & (df['Quantity']==-row[2])].shape[0] == 0:\n",
    "        print(hyp2_df.loc[i])\n",
    "        break\n",
    "        "
   ]
  },
  {
   "cell_type": "markdown",
   "id": "6c99128a",
   "metadata": {},
   "source": [
    "### <font color=red>Hypothesis:2 Failed</font>\n",
    "- Initial Hypothesis still **Fails** meaning cancellations does not correspond to orders made beforehand.\n"
   ]
  },
  {
   "cell_type": "markdown",
   "id": "b5d4d8bf",
   "metadata": {},
   "source": [
    "## New Variable : QuantityCanceled\n",
    "- The below function checks for **two** cases:\n",
    "- ind_orders_nfound: A cancel order exists but does not have a corresponding main order.\n",
    "- ind_orders_found: There is atleast one correspoding main order to a cancel order."
   ]
  },
  {
   "cell_type": "code",
   "execution_count": 13,
   "id": "a9d99848",
   "metadata": {},
   "outputs": [],
   "source": [
    "#takes time to run\n",
    "\n",
    "#adding new variable\n",
    "df1 = df.copy(deep=True)\n",
    "df1['QuantityCanceled'] = 0\n",
    "\n",
    "#entries analogous \n",
    "ind_orders_found = []\n",
    "\n",
    "#entries not analogous\n",
    "ind_orders_nfound = []\n",
    "\n",
    "for i, row in df.iterrows():\n",
    "    # do not consider entries with Discount or positive entries\n",
    "    if (row['Quantity'] > 0) or row['Description'] == 'Discount':\n",
    "        continue\n",
    "    \n",
    "    # find all the entries identical to the cancel entry from the dataset\n",
    "    # but quantity is positive, \n",
    "    temp = df[(df['CustomerID'] == row['CustomerID']) &\n",
    "                         (df['StockCode']  == row['StockCode']) & \n",
    "                         (df['InvoiceDate'] < row['InvoiceDate']) & \n",
    "                         (df['Quantity'] > 0)].copy()\n",
    "    \n",
    "    # doubtful entries :cancel order but without the main order\n",
    "    # main order can be before December 10\n",
    "    if(temp.shape[0] == 0):\n",
    "        ind_orders_nfound.append(i)\n",
    "    \n",
    "    # main order found with the cancel order      \n",
    "    elif(temp.shape[0] == 1):\n",
    "        ind_main = temp.index[0]\n",
    "        df1.loc[ind_main, 'QuantityCanceled'] = -row['Quantity']\n",
    "        ind_orders_found.append(i)\n",
    "    \n",
    "    # if more than one main orders found\n",
    "    elif(temp.shape[0] > 1):\n",
    "        temp.sort_index(axis=0 ,ascending=False, inplace = True)        \n",
    "        for j, val in temp.iterrows():\n",
    "            # cancel order quantity more than the main order quantity\n",
    "            # do nothing\n",
    "            if val['Quantity'] < -row['Quantity']: \n",
    "                continue\n",
    "            \n",
    "            # if it is more or equal assign the main order \"QuantityCanceled\" that value\n",
    "            df1.loc[j, 'QuantityCanceled'] = -row['Quantity']\n",
    "            ind_orders_found.append(i) \n",
    "            break     \n"
   ]
  },
  {
   "cell_type": "code",
   "execution_count": 14,
   "id": "04571184",
   "metadata": {},
   "outputs": [
    {
     "name": "stdout",
     "output_type": "stream",
     "text": [
      "Total main orders found for cancel orders 7521 which is: 1.8727403113514804\n",
      "Total main orders not found for cancel orders 1226 which is: 0.30527584386609696\n"
     ]
    }
   ],
   "source": [
    "print(\"Total main orders found for cancel orders\",len(ind_orders_found),\"which is:\",(len(ind_orders_found)/df.shape[0])*100)\n",
    "print(\"Total main orders not found for cancel orders\",len(ind_orders_nfound),\"which is:\",(len(ind_orders_nfound)/df.shape[0])*100)\n"
   ]
  },
  {
   "cell_type": "markdown",
   "id": "afd4209a",
   "metadata": {},
   "source": [
    "### <font color=\"green\">Insights-5</font>\n",
    "- Cancel without main order comprises of **0.3%**.\n",
    "- Cancel with main orders comprises of **1.87%**.\n",
    "- As we have kept track of these entries with orders found and ones without main order are not useful, we will **delete** it here."
   ]
  },
  {
   "cell_type": "markdown",
   "id": "aa5432f0",
   "metadata": {},
   "source": [
    "## <font color=red>Delete Entries: Cancel Orders</font>"
   ]
  },
  {
   "cell_type": "code",
   "execution_count": 15,
   "id": "44e2dd27",
   "metadata": {},
   "outputs": [
    {
     "name": "stdout",
     "output_type": "stream",
     "text": [
      "Entries Left to Delete: 48\n"
     ]
    }
   ],
   "source": [
    "# delete entries mentioned in the above insight\n",
    "df1.drop(ind_orders_found, axis = 0, inplace = True)\n",
    "df1.drop(ind_orders_nfound, axis = 0, inplace = True)\n",
    "\n",
    "# doubtful entries left after the filter\n",
    "re_entr = df1[(df1['Quantity'] < 0) & (df1['StockCode'] != 'D')]\n",
    "print(\"Entries Left to Delete:\",len(re_entr))\n"
   ]
  },
  {
   "cell_type": "markdown",
   "id": "8ada84c7",
   "metadata": {},
   "source": [
    "## StockCode\n",
    "- Above we saw that there are some peculiar transcations with Different StockCodes"
   ]
  },
  {
   "cell_type": "code",
   "execution_count": 16,
   "id": "fe2321da",
   "metadata": {},
   "outputs": [
    {
     "name": "stdout",
     "output_type": "stream",
     "text": [
      "Various Types of StockCode:\n"
     ]
    },
    {
     "data": {
      "text/html": [
       "<div>\n",
       "<style scoped>\n",
       "    .dataframe tbody tr th:only-of-type {\n",
       "        vertical-align: middle;\n",
       "    }\n",
       "\n",
       "    .dataframe tbody tr th {\n",
       "        vertical-align: top;\n",
       "    }\n",
       "\n",
       "    .dataframe thead th {\n",
       "        text-align: right;\n",
       "    }\n",
       "</style>\n",
       "<table border=\"1\" class=\"dataframe\">\n",
       "  <thead>\n",
       "    <tr style=\"text-align: right;\">\n",
       "      <th></th>\n",
       "      <th>StockCode</th>\n",
       "      <th>StockCodeMeaning</th>\n",
       "    </tr>\n",
       "  </thead>\n",
       "  <tbody>\n",
       "    <tr>\n",
       "      <th>0</th>\n",
       "      <td>POST</td>\n",
       "      <td>POSTAGE</td>\n",
       "    </tr>\n",
       "    <tr>\n",
       "      <th>1</th>\n",
       "      <td>D</td>\n",
       "      <td>Discount</td>\n",
       "    </tr>\n",
       "    <tr>\n",
       "      <th>2</th>\n",
       "      <td>C2</td>\n",
       "      <td>CARRIAGE</td>\n",
       "    </tr>\n",
       "    <tr>\n",
       "      <th>3</th>\n",
       "      <td>M</td>\n",
       "      <td>Manual</td>\n",
       "    </tr>\n",
       "    <tr>\n",
       "      <th>4</th>\n",
       "      <td>BANK CHARGES</td>\n",
       "      <td>Bank Charges</td>\n",
       "    </tr>\n",
       "    <tr>\n",
       "      <th>5</th>\n",
       "      <td>PADS</td>\n",
       "      <td>PADS TO MATCH ALL CUSHIONS</td>\n",
       "    </tr>\n",
       "    <tr>\n",
       "      <th>6</th>\n",
       "      <td>DOT</td>\n",
       "      <td>DOTCOM POSTAGE</td>\n",
       "    </tr>\n",
       "  </tbody>\n",
       "</table>\n",
       "</div>"
      ],
      "text/plain": [
       "      StockCode            StockCodeMeaning\n",
       "0          POST                     POSTAGE\n",
       "1             D                    Discount\n",
       "2            C2                    CARRIAGE\n",
       "3             M                      Manual\n",
       "4  BANK CHARGES                Bank Charges\n",
       "5          PADS  PADS TO MATCH ALL CUSHIONS\n",
       "6           DOT              DOTCOM POSTAGE"
      ]
     },
     "metadata": {},
     "output_type": "display_data"
    }
   ],
   "source": [
    "stk_cd = df1[df1['StockCode'].str.contains('^[a-zA-Z]+', regex=True)]['StockCode'].unique()\n",
    "stk_meaning = []\n",
    "for cd in stk_cd:\n",
    "    stk_meaning.append(df1[df1['StockCode']==cd]['Description'].unique()[0])\n",
    "\n",
    "print(\"Various Types of StockCode:\")\n",
    "display(pd.DataFrame({'StockCode':stk_cd,'StockCodeMeaning':stk_meaning}))"
   ]
  },
  {
   "cell_type": "markdown",
   "id": "dfed55c1",
   "metadata": {},
   "source": [
    "## New Variable : TotalPrice\n"
   ]
  },
  {
   "cell_type": "code",
   "execution_count": 17,
   "id": "764b7d3f",
   "metadata": {},
   "outputs": [
    {
     "data": {
      "text/html": [
       "<div>\n",
       "<style scoped>\n",
       "    .dataframe tbody tr th:only-of-type {\n",
       "        vertical-align: middle;\n",
       "    }\n",
       "\n",
       "    .dataframe tbody tr th {\n",
       "        vertical-align: top;\n",
       "    }\n",
       "\n",
       "    .dataframe thead th {\n",
       "        text-align: right;\n",
       "    }\n",
       "</style>\n",
       "<table border=\"1\" class=\"dataframe\">\n",
       "  <thead>\n",
       "    <tr style=\"text-align: right;\">\n",
       "      <th></th>\n",
       "      <th>CustomerID</th>\n",
       "      <th>InvoiceNo</th>\n",
       "      <th>TotalPrice</th>\n",
       "      <th>InvoiceDate</th>\n",
       "    </tr>\n",
       "  </thead>\n",
       "  <tbody>\n",
       "    <tr>\n",
       "      <th>0</th>\n",
       "      <td>12346</td>\n",
       "      <td>541431</td>\n",
       "      <td>0.00</td>\n",
       "      <td>2011-01-18 10:01:00.000000000</td>\n",
       "    </tr>\n",
       "    <tr>\n",
       "      <th>1</th>\n",
       "      <td>12347</td>\n",
       "      <td>537626</td>\n",
       "      <td>711.79</td>\n",
       "      <td>2010-12-07 14:57:00.000000000</td>\n",
       "    </tr>\n",
       "    <tr>\n",
       "      <th>2</th>\n",
       "      <td>12347</td>\n",
       "      <td>542237</td>\n",
       "      <td>475.39</td>\n",
       "      <td>2011-01-26 14:29:59.999999744</td>\n",
       "    </tr>\n",
       "    <tr>\n",
       "      <th>3</th>\n",
       "      <td>12347</td>\n",
       "      <td>549222</td>\n",
       "      <td>636.25</td>\n",
       "      <td>2011-04-07 10:43:00.000000000</td>\n",
       "    </tr>\n",
       "    <tr>\n",
       "      <th>4</th>\n",
       "      <td>12347</td>\n",
       "      <td>556201</td>\n",
       "      <td>382.52</td>\n",
       "      <td>2011-06-09 13:01:00.000000000</td>\n",
       "    </tr>\n",
       "  </tbody>\n",
       "</table>\n",
       "</div>"
      ],
      "text/plain": [
       "  CustomerID InvoiceNo  TotalPrice                   InvoiceDate\n",
       "0      12346    541431        0.00 2011-01-18 10:01:00.000000000\n",
       "1      12347    537626      711.79 2010-12-07 14:57:00.000000000\n",
       "2      12347    542237      475.39 2011-01-26 14:29:59.999999744\n",
       "3      12347    549222      636.25 2011-04-07 10:43:00.000000000\n",
       "4      12347    556201      382.52 2011-06-09 13:01:00.000000000"
      ]
     },
     "metadata": {},
     "output_type": "display_data"
    }
   ],
   "source": [
    "# new variable TotalPrice\n",
    "# represent total price associated with each entry\n",
    "df1['TotalPrice'] = df1['UnitPrice']*(df1['Quantity'] - df1['QuantityCanceled'])\n",
    "\n",
    "tp_df = df1.groupby(by=['CustomerID','InvoiceNo'],as_index = False)['TotalPrice'].sum()\n",
    "\n",
    "# Transcation Date will be the mean of time comprising of all entries\n",
    "df1['InvoiceDateInt'] = df1['InvoiceDate'].astype('int64')\n",
    "temp = df1.groupby(by=['CustomerID','InvoiceNo'],as_index = False)['InvoiceDateInt'].mean()\n",
    "df1.drop('InvoiceDateInt',axis=1,inplace=True)\n",
    "\n",
    "tp_df.loc[:,'InvoiceDate'] = pd.to_datetime(temp['InvoiceDateInt'])\n",
    "\n",
    "#print the new DataFrame\n",
    "display(tp_df.head())"
   ]
  },
  {
   "cell_type": "markdown",
   "id": "eaccd37e",
   "metadata": {},
   "source": [
    "## Visualization of TotalPrice Data"
   ]
  },
  {
   "cell_type": "code",
   "execution_count": 18,
   "id": "9b076bf8",
   "metadata": {},
   "outputs": [
    {
     "name": "stderr",
     "output_type": "stream",
     "text": [
      "findfont: Font family ['sans-serif'] not found. Falling back to DejaVu Sans.\n",
      "findfont: Generic family 'sans-serif' not found because none of the following families were found: Arial, Liberation Sans, Bitstream Vera Sans, sans-serif\n",
      "findfont: Font family ['sans-serif'] not found. Falling back to DejaVu Sans.\n",
      "findfont: Generic family 'sans-serif' not found because none of the following families were found: Arial, Liberation Sans, Bitstream Vera Sans, sans-serif\n",
      "findfont: Font family ['sans-serif'] not found. Falling back to DejaVu Sans.\n",
      "findfont: Generic family 'sans-serif' not found because none of the following families were found: Arial, Liberation Sans, Bitstream Vera Sans, sans-serif\n"
     ]
    },
    {
     "data": {
      "image/png": "[encoded data removed]",
      "text/plain": [
       "<Figure size 504x504 with 1 Axes>"
      ]
     },
     "metadata": {},
     "output_type": "display_data"
    }
   ],
   "source": [
    "prcdata = pd.Series(tp_df['TotalPrice'])\n",
    "\n",
    "tp_range = [0, 50, 100, 200, 500, 1000, 5000, 50000]\n",
    "tp_values = []\n",
    "\n",
    "for i, price in enumerate(tp_range):\n",
    "    if i==0:\n",
    "        continue\n",
    "    tp_values.append(tp_df[(tp_df['TotalPrice']<price) & (tp_df['TotalPrice']>tp_range[i-1])]['TotalPrice'].count())\n",
    "              \n",
    "for i in range(len(tp_values)):\n",
    "    tp_values[i] = (tp_values[i]/tp_df.shape[0])*100\n",
    "\n",
    "str_rng = []\n",
    "for i in range(1,len(tp_range)):\n",
    "    str_rng.append(\"{}<TP<{}\".format(tp_range[i-1],tp_range[i]))\n",
    "\n",
    "plt.figure(figsize=(7,7))  \n",
    "df_bar1 = pd.DataFrame({'Range':str_rng,'Percentage':tp_values})\n",
    "b1 = sns.barplot(x='Range',y='Percentage',data=df_bar1)\n",
    "b1.set_xticklabels(b1.get_xticklabels(),rotation=45)\n",
    "\n",
    "b1.set_title('Percentage % of Total Price Lying Between a Range')\n",
    "b1.set_ylabel('Percentage(%)')\n",
    "for index, row in df_bar1.iterrows():\n",
    "    b1.text(row.name,row.Percentage, round(row.Percentage,2), color='black', ha=\"center\")\n",
    "plt.show()"
   ]
  },
  {
   "cell_type": "markdown",
   "id": "99198844",
   "metadata": {},
   "source": [
    "### <font color=\"green\">Insights-6</font>\n",
    "- Vast Majority of orders are associated with large TotalPrices as we can see that approximately **65%** of orders are above **200** Pound.\n"
   ]
  },
  {
   "cell_type": "markdown",
   "id": "67f73ebe",
   "metadata": {},
   "source": [
    "# <font color=blue>_Product Categories Insights_</font>"
   ]
  },
  {
   "cell_type": "code",
   "execution_count": 19,
   "id": "a36c8a56",
   "metadata": {},
   "outputs": [],
   "source": [
    "# check for noun(common, proper) appearing in the products description\n",
    "def is_noun(pos):\n",
    "    return pos[:2] == 'NN'\n",
    "\n",
    "def extract_keywords(df, col = 'Description'):\n",
    "    # defining the stemmer\n",
    "    # stemmer removes morphological affix(word)+root=new word and will only keep the root \n",
    "    stemmer = nltk.stem.SnowballStemmer(\"english\")\n",
    "    # aggregate the set of names associated with a particular root\n",
    "    keywords_roots  = dict()\n",
    "    # associate root and keyword\n",
    "    keywords_select = dict()\n",
    "    category_keys   = []\n",
    "    count_keywords  = dict()\n",
    "    icount = 0\n",
    "    \n",
    "    for s in df[col]:\n",
    "        if pd.isnull(s): \n",
    "            continue\n",
    "        # convert to lower-case    \n",
    "        lines = s.lower()\n",
    "        # tokenizes the words and punctuations \n",
    "        tokenized = nltk.word_tokenize(lines)\n",
    "        # pos_tag tags words with part-of-speech and then checks for noun\n",
    "        nouns = [word for (word, pos) in nltk.pos_tag(tokenized) if is_noun(pos)] \n",
    "        \n",
    "        for n in nouns:\n",
    "            #convert to lower string\n",
    "            n = n.lower()\n",
    "            #convert to base singular root word\n",
    "            sroot = stemmer.stem(n)\n",
    "            \n",
    "            #add in dict if exists\n",
    "            if sroot in keywords_roots:                \n",
    "                keywords_roots[sroot].add(n)\n",
    "                count_keywords[sroot] += 1                \n",
    "            else: #create a new key\n",
    "                keywords_roots[sroot] = {n}\n",
    "                count_keywords[sroot] = 1\n",
    "    \n",
    "    # of all the keywords associated with the roots, find the keyword with shortest length\n",
    "    for s in keywords_roots.keys():\n",
    "        # number of keywords greater than one\n",
    "        if len(keywords_roots[s]) > 1:  \n",
    "            min_length = sys.maxsize\n",
    "            #find the keyword with shortest length\n",
    "            for k in keywords_roots[s]:\n",
    "                if len(k) < min_length:\n",
    "                    keyw = k \n",
    "                    min_length = len(k)            \n",
    "            category_keys.append(keyw)\n",
    "            keywords_select[s] = keyw\n",
    "        else:# if number of keywords is one\n",
    "            category_keys.append(list(keywords_roots[s])[0])\n",
    "            keywords_select[s] = list(keywords_roots[s])[0]\n",
    "                   \n",
    "    return category_keys, keywords_roots, keywords_select, count_keywords"
   ]
  },
  {
   "cell_type": "code",
   "execution_count": 20,
   "id": "956ffd70",
   "metadata": {},
   "outputs": [
    {
     "ename": "LookupError",
     "evalue": "\n**********************************************************************\n  Resource \u001b[93maveraged_perceptron_tagger\u001b[0m not found.\n  Please use the NLTK Downloader to obtain the resource:\n\n  \u001b[31m>>> import nltk\n  >>> nltk.download('averaged_perceptron_tagger')\n  \u001b[0m\n  For more information see: https://www.nltk.org/data.html\n\n  Attempted to load \u001b[93mtaggers/averaged_perceptron_tagger/averaged_perceptron_tagger.pickle\u001b[0m\n\n  Searched in:\n    - '/home/hd3adpool/nltk_data'\n    - '/usr/nltk_data'\n    - '/usr/share/nltk_data'\n    - '/usr/lib/nltk_data'\n    - '/usr/share/nltk_data'\n    - '/usr/local/share/nltk_data'\n    - '/usr/lib/nltk_data'\n    - '/usr/local/lib/nltk_data'\n**********************************************************************\n",
     "output_type": "error",
     "traceback": [
      "\u001b[0;31m---------------------------------------------------------------------------\u001b[0m",
      "\u001b[0;31mLookupError\u001b[0m                               Traceback (most recent call last)",
      "\u001b[0;32m/tmp/ipykernel_6899/3119555740.py\u001b[0m in \u001b[0;36m<module>\u001b[0;34m\u001b[0m\n\u001b[1;32m      1\u001b[0m \u001b[0mkeyword_df\u001b[0m \u001b[0;34m=\u001b[0m \u001b[0mpd\u001b[0m\u001b[0;34m.\u001b[0m\u001b[0mDataFrame\u001b[0m\u001b[0;34m(\u001b[0m\u001b[0mdf\u001b[0m\u001b[0;34m[\u001b[0m\u001b[0;34m'Description'\u001b[0m\u001b[0;34m]\u001b[0m\u001b[0;34m.\u001b[0m\u001b[0munique\u001b[0m\u001b[0;34m(\u001b[0m\u001b[0;34m)\u001b[0m\u001b[0;34m)\u001b[0m\u001b[0;34m.\u001b[0m\u001b[0mrename\u001b[0m\u001b[0;34m(\u001b[0m\u001b[0mcolumns\u001b[0m\u001b[0;34m=\u001b[0m\u001b[0;34m{\u001b[0m\u001b[0;36m0\u001b[0m\u001b[0;34m:\u001b[0m\u001b[0;34m'Description'\u001b[0m\u001b[0;34m}\u001b[0m\u001b[0;34m)\u001b[0m\u001b[0;34m\u001b[0m\u001b[0;34m\u001b[0m\u001b[0m\n\u001b[1;32m      2\u001b[0m \u001b[0;31m#call to function extract_keywords\u001b[0m\u001b[0;34m\u001b[0m\u001b[0;34m\u001b[0m\u001b[0;34m\u001b[0m\u001b[0m\n\u001b[0;32m----> 3\u001b[0;31m \u001b[0mkeywords\u001b[0m\u001b[0;34m,\u001b[0m \u001b[0mkeywords_roots\u001b[0m\u001b[0;34m,\u001b[0m \u001b[0mkeywords_select\u001b[0m\u001b[0;34m,\u001b[0m \u001b[0mcount_keywords\u001b[0m \u001b[0;34m=\u001b[0m \u001b[0mextract_keywords\u001b[0m\u001b[0;34m(\u001b[0m\u001b[0mkeyword_df\u001b[0m\u001b[0;34m,\u001b[0m \u001b[0mcol\u001b[0m\u001b[0;34m=\u001b[0m\u001b[0;34m'Description'\u001b[0m\u001b[0;34m)\u001b[0m\u001b[0;34m\u001b[0m\u001b[0;34m\u001b[0m\u001b[0m\n\u001b[0m\u001b[1;32m      4\u001b[0m \u001b[0mprint\u001b[0m\u001b[0;34m(\u001b[0m\u001b[0;34m\"Number of keywords in Description attribute:\"\u001b[0m\u001b[0;34m,\u001b[0m\u001b[0mlen\u001b[0m\u001b[0;34m(\u001b[0m\u001b[0mkeywords\u001b[0m\u001b[0;34m)\u001b[0m\u001b[0;34m)\u001b[0m\u001b[0;34m\u001b[0m\u001b[0;34m\u001b[0m\u001b[0m\n\u001b[1;32m      5\u001b[0m \u001b[0;34m\u001b[0m\u001b[0m\n",
      "\u001b[0;32m/tmp/ipykernel_6899/1193946463.py\u001b[0m in \u001b[0;36mextract_keywords\u001b[0;34m(df, col)\u001b[0m\n\u001b[1;32m     23\u001b[0m         \u001b[0mtokenized\u001b[0m \u001b[0;34m=\u001b[0m \u001b[0mnltk\u001b[0m\u001b[0;34m.\u001b[0m\u001b[0mword_tokenize\u001b[0m\u001b[0;34m(\u001b[0m\u001b[0mlines\u001b[0m\u001b[0;34m)\u001b[0m\u001b[0;34m\u001b[0m\u001b[0;34m\u001b[0m\u001b[0m\n\u001b[1;32m     24\u001b[0m         \u001b[0;31m# pos_tag tags words with part-of-speech and then checks for noun\u001b[0m\u001b[0;34m\u001b[0m\u001b[0;34m\u001b[0m\u001b[0;34m\u001b[0m\u001b[0m\n\u001b[0;32m---> 25\u001b[0;31m         \u001b[0mnouns\u001b[0m \u001b[0;34m=\u001b[0m \u001b[0;34m[\u001b[0m\u001b[0mword\u001b[0m \u001b[0;32mfor\u001b[0m \u001b[0;34m(\u001b[0m\u001b[0mword\u001b[0m\u001b[0;34m,\u001b[0m \u001b[0mpos\u001b[0m\u001b[0;34m)\u001b[0m \u001b[0;32min\u001b[0m \u001b[0mnltk\u001b[0m\u001b[0;34m.\u001b[0m\u001b[0mpos_tag\u001b[0m\u001b[0;34m(\u001b[0m\u001b[0mtokenized\u001b[0m\u001b[0;34m)\u001b[0m \u001b[0;32mif\u001b[0m \u001b[0mis_noun\u001b[0m\u001b[0;34m(\u001b[0m\u001b[0mpos\u001b[0m\u001b[0;34m)\u001b[0m\u001b[0;34m]\u001b[0m\u001b[0;34m\u001b[0m\u001b[0;34m\u001b[0m\u001b[0m\n\u001b[0m\u001b[1;32m     26\u001b[0m \u001b[0;34m\u001b[0m\u001b[0m\n\u001b[1;32m     27\u001b[0m         \u001b[0;32mfor\u001b[0m \u001b[0mn\u001b[0m \u001b[0;32min\u001b[0m \u001b[0mnouns\u001b[0m\u001b[0;34m:\u001b[0m\u001b[0;34m\u001b[0m\u001b[0;34m\u001b[0m\u001b[0m\n",
      "\u001b[0;32m~/.local/lib/python3.9/site-packages/nltk/tag/__init__.py\u001b[0m in \u001b[0;36mpos_tag\u001b[0;34m(tokens, tagset, lang)\u001b[0m\n\u001b[1;32m    162\u001b[0m     \u001b[0;34m:\u001b[0m\u001b[0mrtype\u001b[0m\u001b[0;34m:\u001b[0m \u001b[0mlist\u001b[0m\u001b[0;34m(\u001b[0m\u001b[0mtuple\u001b[0m\u001b[0;34m(\u001b[0m\u001b[0mstr\u001b[0m\u001b[0;34m,\u001b[0m \u001b[0mstr\u001b[0m\u001b[0;34m)\u001b[0m\u001b[0;34m)\u001b[0m\u001b[0;34m\u001b[0m\u001b[0;34m\u001b[0m\u001b[0m\n\u001b[1;32m    163\u001b[0m     \"\"\"\n\u001b[0;32m--> 164\u001b[0;31m     \u001b[0mtagger\u001b[0m \u001b[0;34m=\u001b[0m \u001b[0m_get_tagger\u001b[0m\u001b[0;34m(\u001b[0m\u001b[0mlang\u001b[0m\u001b[0;34m)\u001b[0m\u001b[0;34m\u001b[0m\u001b[0;34m\u001b[0m\u001b[0m\n\u001b[0m\u001b[1;32m    165\u001b[0m     \u001b[0;32mreturn\u001b[0m \u001b[0m_pos_tag\u001b[0m\u001b[0;34m(\u001b[0m\u001b[0mtokens\u001b[0m\u001b[0;34m,\u001b[0m \u001b[0mtagset\u001b[0m\u001b[0;34m,\u001b[0m \u001b[0mtagger\u001b[0m\u001b[0;34m,\u001b[0m \u001b[0mlang\u001b[0m\u001b[0;34m)\u001b[0m\u001b[0;34m\u001b[0m\u001b[0;34m\u001b[0m\u001b[0m\n\u001b[1;32m    166\u001b[0m \u001b[0;34m\u001b[0m\u001b[0m\n",
      "\u001b[0;32m~/.local/lib/python3.9/site-packages/nltk/tag/__init__.py\u001b[0m in \u001b[0;36m_get_tagger\u001b[0;34m(lang)\u001b[0m\n\u001b[1;32m    104\u001b[0m         \u001b[0mtagger\u001b[0m\u001b[0;34m.\u001b[0m\u001b[0mload\u001b[0m\u001b[0;34m(\u001b[0m\u001b[0map_russian_model_loc\u001b[0m\u001b[0;34m)\u001b[0m\u001b[0;34m\u001b[0m\u001b[0;34m\u001b[0m\u001b[0m\n\u001b[1;32m    105\u001b[0m     \u001b[0;32melse\u001b[0m\u001b[0;34m:\u001b[0m\u001b[0;34m\u001b[0m\u001b[0;34m\u001b[0m\u001b[0m\n\u001b[0;32m--> 106\u001b[0;31m         \u001b[0mtagger\u001b[0m \u001b[0;34m=\u001b[0m \u001b[0mPerceptronTagger\u001b[0m\u001b[0;34m(\u001b[0m\u001b[0;34m)\u001b[0m\u001b[0;34m\u001b[0m\u001b[0;34m\u001b[0m\u001b[0m\n\u001b[0m\u001b[1;32m    107\u001b[0m     \u001b[0;32mreturn\u001b[0m \u001b[0mtagger\u001b[0m\u001b[0;34m\u001b[0m\u001b[0;34m\u001b[0m\u001b[0m\n\u001b[1;32m    108\u001b[0m \u001b[0;34m\u001b[0m\u001b[0m\n",
      "\u001b[0;32m~/.local/lib/python3.9/site-packages/nltk/tag/perceptron.py\u001b[0m in \u001b[0;36m__init__\u001b[0;34m(self, load)\u001b[0m\n\u001b[1;32m    166\u001b[0m         \u001b[0;32mif\u001b[0m \u001b[0mload\u001b[0m\u001b[0;34m:\u001b[0m\u001b[0;34m\u001b[0m\u001b[0;34m\u001b[0m\u001b[0m\n\u001b[1;32m    167\u001b[0m             AP_MODEL_LOC = \"file:\" + str(\n\u001b[0;32m--> 168\u001b[0;31m                 \u001b[0mfind\u001b[0m\u001b[0;34m(\u001b[0m\u001b[0;34m\"taggers/averaged_perceptron_tagger/\"\u001b[0m \u001b[0;34m+\u001b[0m \u001b[0mPICKLE\u001b[0m\u001b[0;34m)\u001b[0m\u001b[0;34m\u001b[0m\u001b[0;34m\u001b[0m\u001b[0m\n\u001b[0m\u001b[1;32m    169\u001b[0m             )\n\u001b[1;32m    170\u001b[0m             \u001b[0mself\u001b[0m\u001b[0;34m.\u001b[0m\u001b[0mload\u001b[0m\u001b[0;34m(\u001b[0m\u001b[0mAP_MODEL_LOC\u001b[0m\u001b[0;34m)\u001b[0m\u001b[0;34m\u001b[0m\u001b[0;34m\u001b[0m\u001b[0m\n",
      "\u001b[0;32m~/.local/lib/python3.9/site-packages/nltk/data.py\u001b[0m in \u001b[0;36mfind\u001b[0;34m(resource_name, paths)\u001b[0m\n\u001b[1;32m    581\u001b[0m     \u001b[0msep\u001b[0m \u001b[0;34m=\u001b[0m \u001b[0;34m\"*\"\u001b[0m \u001b[0;34m*\u001b[0m \u001b[0;36m70\u001b[0m\u001b[0;34m\u001b[0m\u001b[0;34m\u001b[0m\u001b[0m\n\u001b[1;32m    582\u001b[0m     \u001b[0mresource_not_found\u001b[0m \u001b[0;34m=\u001b[0m \u001b[0;34m\"\\n%s\\n%s\\n%s\\n\"\u001b[0m \u001b[0;34m%\u001b[0m \u001b[0;34m(\u001b[0m\u001b[0msep\u001b[0m\u001b[0;34m,\u001b[0m \u001b[0mmsg\u001b[0m\u001b[0;34m,\u001b[0m \u001b[0msep\u001b[0m\u001b[0;34m)\u001b[0m\u001b[0;34m\u001b[0m\u001b[0;34m\u001b[0m\u001b[0m\n\u001b[0;32m--> 583\u001b[0;31m     \u001b[0;32mraise\u001b[0m \u001b[0mLookupError\u001b[0m\u001b[0;34m(\u001b[0m\u001b[0mresource_not_found\u001b[0m\u001b[0;34m)\u001b[0m\u001b[0;34m\u001b[0m\u001b[0;34m\u001b[0m\u001b[0m\n\u001b[0m\u001b[1;32m    584\u001b[0m \u001b[0;34m\u001b[0m\u001b[0m\n\u001b[1;32m    585\u001b[0m \u001b[0;34m\u001b[0m\u001b[0m\n",
      "\u001b[0;31mLookupError\u001b[0m: \n**********************************************************************\n  Resource \u001b[93maveraged_perceptron_tagger\u001b[0m not found.\n  Please use the NLTK Downloader to obtain the resource:\n\n  \u001b[31m>>> import nltk\n  >>> nltk.download('averaged_perceptron_tagger')\n  \u001b[0m\n  For more information see: https://www.nltk.org/data.html\n\n  Attempted to load \u001b[93mtaggers/averaged_perceptron_tagger/averaged_perceptron_tagger.pickle\u001b[0m\n\n  Searched in:\n    - '/home/hd3adpool/nltk_data'\n    - '/usr/nltk_data'\n    - '/usr/share/nltk_data'\n    - '/usr/lib/nltk_data'\n    - '/usr/share/nltk_data'\n    - '/usr/local/share/nltk_data'\n    - '/usr/lib/nltk_data'\n    - '/usr/local/lib/nltk_data'\n**********************************************************************\n"
     ]
    }
   ],
   "source": [
    "keyword_df = pd.DataFrame(df['Description'].unique()).rename(columns={0:'Description'})\n",
    "#call to function extract_keywords\n",
    "keywords, keywords_roots, keywords_select, count_keywords = extract_keywords(keyword_df, col='Description')\n",
    "print(\"Number of keywords in Description attribute:\",len(keywords))\n",
    "\n",
    "#convert dict to list\n",
    "keyword_list = [keywords_select[i] for i in count_keywords.keys()]\n",
    "\n"
   ]
  },
  {
   "cell_type": "code",
   "execution_count": null,
   "id": "a9e25376",
   "metadata": {},
   "outputs": [],
   "source": [
    "#dataFrame for Plot\n",
    "df_bar2 = pd.DataFrame({'Keywords':keyword_list,'Frequency':count_keywords.values()})\n",
    "df_bar2.sort_values(by=['Frequency'],ascending=False,inplace=True)\n",
    "\n",
    "#display the top 50 keywords with their frequency    \n",
    "plt.figure(figsize=(17,12))\n",
    "b2 = sns.barplot(x='Frequency',y='Keywords',data=df_bar2[:50])\n",
    "b2.set_yticklabels(b2.get_yticklabels(),fontsize=12)\n",
    "b2.set_title(\"Keyword Occurence\")\n",
    "b2.set_ylabel(\"Keywords\")\n",
    "b2.set_xlabel('Number of Occurences')\n",
    "plt.show()"
   ]
  },
  {
   "cell_type": "markdown",
   "id": "7c2d42b7",
   "metadata": {},
   "source": [
    "## Types of Keywords"
   ]
  },
  {
   "cell_type": "markdown",
   "id": "43dd815c",
   "metadata": {},
   "source": [
    "### <font color=\"green\">Insights-7</font>\n",
    "- On examining the keywords we find that, there are **94** keywords containing special characters.\n",
    "- There are keywords like **pink, blue, tag, green, orange** this which does not carry information. Total of **5** keywords\n",
    "- Keyword length **<2** are not relevant. e.g. **w,i,ma,st,la** and so on. Total of **803**"
   ]
  },
  {
   "cell_type": "markdown",
   "id": "99b1ca51",
   "metadata": {},
   "source": [
    "## Final Keywords"
   ]
  },
  {
   "cell_type": "code",
   "execution_count": null,
   "id": "4e5aa666",
   "metadata": {},
   "outputs": [],
   "source": [
    "final_keywords = []\n",
    "# get key-value pair from the count_keywords dictionary\n",
    "for k,v in count_keywords.items():\n",
    "    word = keywords_select[k]\n",
    "    if word in ['pink', 'blue', 'tag', 'green', 'orange']:\n",
    "        continue\n",
    "    # do not consider if word length less than 3\n",
    "    # do not consider if the frequency of keyword less than 13\n",
    "    if len(word) < 3 or v < 13:\n",
    "        continue\n",
    "    # do no consider if contains special characters\n",
    "    if ('+' in word) or ('/' in word): \n",
    "        continue\n",
    "    final_keywords.append([word, v])\n",
    "\n",
    "print(\"Final Keywords kept:\",len(final_keywords))"
   ]
  },
  {
   "cell_type": "markdown",
   "id": "d0a099bf",
   "metadata": {},
   "source": [
    "## Data Encoding: One-hot Encoding\n",
    "- Columns of Matrix are the **193** Keywords.\n",
    "- Rows of Matrix contains the products with unique description."
   ]
  },
  {
   "cell_type": "code",
   "execution_count": null,
   "id": "b1d9b47f",
   "metadata": {},
   "outputs": [],
   "source": [
    "unique_desc = df1['Description'].unique()\n",
    "encod_mat = pd.DataFrame()\n",
    "\n",
    "for key, count in final_keywords:\n",
    "    encod_mat.loc[:,key] = list(map(lambda x:int(key.upper() in x),unique_desc))\n",
    "    \n",
    "print(\"One-hot encoded Matrix of Unique Description vs Keywords:\")\n",
    "display(encod_mat)"
   ]
  },
  {
   "cell_type": "code",
   "execution_count": null,
   "id": "b71e906c",
   "metadata": {},
   "outputs": [],
   "source": [
    "# UnitPrice threshold ranges\n",
    "unitp_thres = [0, 1, 2, 3, 5, 10]\n",
    "\n",
    "# str to represent ranges\n",
    "col_labels = []\n",
    "\n",
    "for i in range(len(unitp_thres)):\n",
    "    if i == len(unitp_thres)-1:\n",
    "        col = 'UPR>{}'.format(unitp_thres[i])\n",
    "    else:\n",
    "        col = '{}<UPR<{}'.format(unitp_thres[i],unitp_thres[i+1])\n",
    "    col_labels.append(col)\n",
    "    encod_mat.loc[:, col] = 0\n",
    "    \n",
    "for i, desc in enumerate(unique_desc):\n",
    "    mn_unitp = df1[df1['Description'] == desc]['UnitPrice'].mean()\n",
    "    j = 0\n",
    "    while mn_unitp > unitp_thres[j]:\n",
    "        j+=1\n",
    "        if j == len(unitp_thres): break\n",
    "    encod_mat.loc[i, col_labels[j-1]] = 1\n",
    "\n",
    "prod_dist = []    \n",
    "for i in range(len(unitp_thres)):\n",
    "    if i == len(unitp_thres)-1:\n",
    "        col = 'UPR>{}'.format(unitp_thres[i])\n",
    "    else:\n",
    "        col = '{}<UPR<{}'.format(unitp_thres[i],unitp_thres[i+1])    \n",
    "    prod_dist.append(encod_mat.loc[:,col].sum())\n",
    "\n",
    "display(pd.DataFrame({'UnitPriceRange':col_labels,'NumberOfProducts':prod_dist}))"
   ]
  },
  {
   "cell_type": "markdown",
   "id": "7b57308b",
   "metadata": {},
   "source": [
    "## KModes Clustering"
   ]
  },
  {
   "cell_type": "code",
   "execution_count": null,
   "id": "b70a4e96",
   "metadata": {
    "scrolled": false
   },
   "outputs": [],
   "source": [
    "#check for optimal number of clustering.\n",
    "# The Average silhouette score for 2 is: 0.12144691400412004\n",
    "# The Average silhouette score for 3 is: 0.17773801606857215\n",
    "# The Average silhouette score for 4 is: 0.22326403238760958\n",
    "# The Average silhouette score for 5 is: 0.2602882515847933\n",
    "# The Average silhouette score for 6 is: 0.2527632259663735\n",
    "# The Average silhouette score for 7 is: 0.25322076363490587\n",
    "# The Average silhouette score for 8 is: 0.23731255715846641\n",
    "ncl = []\n",
    "silhouette_s = []\n",
    "cal_hara_s = [] \n",
    "for num_clusters in range(2,9):\n",
    "    ncl.append(num_clusters)\n",
    "    kmode = KModes(n_clusters=num_clusters, init = \"Huang\", n_init = 10,n_jobs=8,random_state=42);\n",
    "    cl = kmode.fit_predict(encod_mat);\n",
    "    sc = silhouette_score(encod_mat,cl,metric='hamming')\n",
    "    cal_hara_s.append(calinski_harabasz_score(encod_mat,cl))\n",
    "    silhouette_s.append(sc)\n",
    "    print('The Average silhouette score for',num_clusters,'is:',sc)"
   ]
  },
  {
   "cell_type": "markdown",
   "id": "54b27e08",
   "metadata": {},
   "source": [
    "### <font color=\"green\">Insights-8</font>\n",
    "- Best metric for binary matrices is **Hamming's Metric**.\n",
    "- Silhouette metric better than other Calinski Harabasz metric because of **higher dimensions** of data.\n",
    "- We can see, the average silhouette score is highest for **5** clusters.\n",
    "- Anything more than **5** clusters will result into uneven distribution of data."
   ]
  },
  {
   "cell_type": "code",
   "execution_count": null,
   "id": "b0eca007",
   "metadata": {},
   "outputs": [],
   "source": [
    "#visualizers for silhouette score and calinski harabasz score \n",
    "fig, axes = plt.subplots(1, 2, figsize=(16, 8))\n",
    "\n",
    "fig.suptitle('Optimal Cluster Visualization through Scores',fontsize=22)\n",
    "\n",
    "l1 = sns.lineplot(ax=axes[0],data=pd.DataFrame({'Cluster':ncl,'Silhouette':silhouette_s}),x='Cluster',y='Silhouette',marker=\"o\")\n",
    "l1.set_title('Silhouette Score vs Clusters')\n",
    "l1.set_ylabel('Silhouette Score')\n",
    "l1.set_xlabel('Number of Clusters')\n",
    "\n",
    "l2 = sns.lineplot(ax=axes[1],data=pd.DataFrame({'Cluster':ncl,'Calinski':cal_hara_s}),x='Cluster',y='Calinski',marker=\"o\")\n",
    "l2.set_title('Calinski Harabasz Score vs Clusters')\n",
    "l2.set_ylabel('Calinski Harabasz Score')\n",
    "l2.set_xlabel('Number of Clusters')\n",
    "\n",
    "plt.show()"
   ]
  },
  {
   "cell_type": "code",
   "execution_count": null,
   "id": "22a8c2b1",
   "metadata": {},
   "outputs": [],
   "source": [
    "#Clustering counts for five models.\n",
    "n_clusters=5\n",
    "fkmode = KModes(n_clusters=n_clusters, init = \"Huang\", n_init = 10,n_jobs=8, random_state = 42)\n",
    "cl = fkmode.fit_predict(encod_mat)\n",
    "\n",
    "print(cl.shape)\n",
    "display(pd.DataFrame({'Class':pd.Series(cl).value_counts().index,'Frequency':pd.Series(cl).value_counts()}))\n"
   ]
  },
  {
   "cell_type": "code",
   "execution_count": null,
   "id": "437191f1",
   "metadata": {},
   "outputs": [],
   "source": [
    "#silhouette visualizer\n",
    "sil_viz = SilhouetteVisualizer(fkmode)\n",
    "\n",
    "sil_viz.fit(encod_mat)\n",
    "sil_viz.poof()"
   ]
  },
  {
   "cell_type": "markdown",
   "id": "42a4ea13",
   "metadata": {},
   "source": [
    "## WordCloud Visualization"
   ]
  },
  {
   "cell_type": "code",
   "execution_count": null,
   "id": "cdc3ff4e",
   "metadata": {},
   "outputs": [],
   "source": [
    "#find out the frequency of keywords for every cluster\n",
    "pro_df = pd.DataFrame(unique_desc)\n",
    "pro_words = [word for (word, occurence) in final_keywords]\n",
    "occurence = [dict() for _ in range(n_clusters)]\n",
    "print(cl.shape)\n",
    "for i in range(n_clusters):\n",
    "    temp_clu = pro_df.loc[cl == i]\n",
    "    for word in pro_words:\n",
    "        # for cluster i and a word from 193 keywords find the occurence of a word for cluster i\n",
    "        occurence[i][word] = sum(temp_clu.loc[:, 0].str.contains(word.upper()))\n",
    "\n",
    "#________________________________________________________________________\n",
    "def random_color_func(word=None, font_size=None, position=None,\n",
    "                      orientation=None, font_path=None, random_state=None):\n",
    "    h = int(360.0 * tone / 255.0)\n",
    "    s = int(100.0 * 255.0 / 255.0)\n",
    "    l = int(100.0 * float(random_state.randint(70, 120)) / 255.0)\n",
    "    return \"hsl({}, {}%, {}%)\".format(h, s, l)\n",
    "#________________________________________________________________________\n",
    "def make_wordcloud(liste, increment):\n",
    "    ax1 = fig.add_subplot(4,2,increment)\n",
    "    words = dict()\n",
    "    trunc_occurences = liste[0:150]\n",
    "    for s in trunc_occurences:\n",
    "        words[s[0]] = s[1]\n",
    "    #________________________________________________________\n",
    "    wordcloud = WordCloud(width=1000,height=400, background_color='lightgrey', \n",
    "                          max_words=1628,relative_scaling=1,\n",
    "                          color_func = random_color_func,\n",
    "                          normalize_plurals=False)\n",
    "    wordcloud.generate_from_frequencies(words)\n",
    "    ax1.imshow(wordcloud, interpolation=\"bilinear\")\n",
    "    ax1.axis('off')\n",
    "    plt.title('cluster nº{}'.format(increment-1))\n",
    "#________________________________________________________________________\n",
    "fig = plt.figure(1, figsize=(14,14))\n",
    "color = [0, 160, 130, 95, 280, 40, 330, 110, 25]\n",
    "for i in range(n_clusters):\n",
    "    list_cluster_occurences = occurence[i]\n",
    "\n",
    "    tone = color[i] # define the color of the words\n",
    "    liste = []\n",
    "    for key, value in list_cluster_occurences.items():\n",
    "        liste.append([key, value])\n",
    "    liste.sort(key = lambda x:x[1], reverse = True)\n",
    "    make_wordcloud(liste, i+1)   "
   ]
  },
  {
   "cell_type": "markdown",
   "id": "09190bae",
   "metadata": {},
   "source": [
    "### <font color=\"green\">Insights-9</font>\n",
    "- One of the clusters could be associated with **gifts(e.g. christmas, packaging, card,..)**\n",
    "- One of the clusters could be associated with **luxury items and jewelry(e.g. necklace, bracelet, lace, silver,...)**\n",
    "- Many words appear in multiple clusters and therefore **difficult to clearly distinguish them**.\n",
    "- Different products were grouped into five clusters.\n",
    "- Moreover, **PCA** can be used to ensure that these clusters are truly distinct.\n"
   ]
  },
  {
   "cell_type": "markdown",
   "id": "8a30b8db",
   "metadata": {},
   "source": [
    "# <font color=blue>*Customer Categories*</font>"
   ]
  },
  {
   "cell_type": "markdown",
   "id": "702fe561",
   "metadata": {},
   "source": [
    "## Embed Information into the dataset: _\"ProductCategory\"_ and _\"AmountSpentPerCategory\"_"
   ]
  },
  {
   "cell_type": "code",
   "execution_count": null,
   "id": "2925ea97",
   "metadata": {},
   "outputs": [],
   "source": [
    "mp = {}\n",
    "# map description to the cluster number\n",
    "for key, value in zip(unique_desc, cl):\n",
    "    mp[key] = value\n",
    "\n",
    "# create a new variable in DataFrame \"ProductCategory\"    \n",
    "df1['ProductCategory'] = df1.loc[:,'Description'].map(mp)\n",
    "\n",
    "# add 5 new clusters\n",
    "for i in range(n_clusters):\n",
    "    newcol = 'Category{}'.format(i)\n",
    "    tmp = df1[df1['ProductCategory']==i]\n",
    "    pricet = tmp['UnitPrice']*(tmp['Quantity']-tmp['QuantityCanceled'])\n",
    "    pricet = pricet.apply(lambda x:x if x > 0 else 0)\n",
    "    df1.loc[:,newcol] = pricet\n",
    "    df1[newcol].fillna(0,inplace=True)\n",
    "    \n",
    "# display new Variable for AmountSpentPerCategory\n",
    "display(df1[['InvoiceNo', 'Description', 'ProductCategory', 'Category0', 'Category1', 'Category2', 'Category3','Category4']][:15])"
   ]
  },
  {
   "cell_type": "markdown",
   "id": "48ca7985",
   "metadata": {},
   "source": [
    "## Merge Multiple Entries of _\"One order\"_ into _\"One row\"_"
   ]
  },
  {
   "cell_type": "code",
   "execution_count": null,
   "id": "e7e33cc2",
   "metadata": {},
   "outputs": [],
   "source": [
    "# merge multiple entries of order into a single one\n",
    "\n",
    "# join data using \"CustomerID\" and \"InvoiceNo\"\n",
    "temp = df1.groupby(by=['CustomerID', 'InvoiceNo'], as_index=False)['TotalPrice'].sum()\n",
    "ordperrow = temp.rename(columns = {'TotalPrice':'BasketPrice'})\n",
    "\n",
    "# sum \"CategoryAmount\" per cluster \n",
    "for i in range(n_clusters):\n",
    "    col = 'Category{}'.format(i) \n",
    "    temp = df1.groupby(by=['CustomerID', 'InvoiceNo'], as_index=False)[col].sum()\n",
    "    ordperrow.loc[:, col] = temp[col]\n",
    "\n",
    "# take mean value of datetime for a particular order\n",
    "df1['InvoiceDateInt'] = df1['InvoiceDate'].astype('int64')\n",
    "temp = df1.groupby(by=['CustomerID', 'InvoiceNo'], as_index=False)['InvoiceDateInt'].mean()\n",
    "\n",
    "df1.drop('InvoiceDateInt', axis = 1, inplace = True)\n",
    "ordperrow.loc[:, 'InvoiceDate'] = pd.to_datetime(temp['InvoiceDateInt'])\n",
    "\n",
    "# remove orders with \"BasketPrice\" <= 0\n",
    "ordperrow = ordperrow[ordperrow['BasketPrice'] > 0]\n",
    "print(\"DataFrame shape:\",ordperrow.shape)\n",
    "\n",
    "ordperrow.sort_values('BasketPrice', ascending = False)[:5]\n"
   ]
  },
  {
   "cell_type": "markdown",
   "id": "e4ffee1c",
   "metadata": {},
   "source": [
    "## Test-Train Data Separation\n",
    "- **ordperrow** contains data for period of **12 months**.\n",
    "- In order to test the model in realistic way, use first **10 months for training, and last 2 months for testing**."
   ]
  },
  {
   "cell_type": "code",
   "execution_count": null,
   "id": "d0d3cbe0",
   "metadata": {},
   "outputs": [],
   "source": [
    "# dataframe min and max invoice dates\n",
    "print('DataFrame order start from:',ordperrow['InvoiceDate'].min())\n",
    "print('DataFrame order end at:',ordperrow['InvoiceDate'].max())"
   ]
  },
  {
   "cell_type": "code",
   "execution_count": null,
   "id": "ebc5675d",
   "metadata": {},
   "outputs": [],
   "source": [
    "# split data into test and train\n",
    "train_set = ordperrow[ordperrow['InvoiceDate'] < pd.to_datetime(datetime.date(2011,10,1))]\n",
    "test_set = ordperrow[ordperrow['InvoiceDate'] >= pd.to_datetime(datetime.date(2011,10,1))]\n",
    "ordperrow = train_set.copy(deep=True)"
   ]
  },
  {
   "cell_type": "markdown",
   "id": "74742586",
   "metadata": {},
   "source": [
    "## Customer Order Combinations\n",
    "- Group together different entries that correspond to the **same user**\n",
    "- Determine **number of purchases, min, max, average amount, total_amount** from all visits."
   ]
  },
  {
   "cell_type": "code",
   "execution_count": null,
   "id": "5bcf2eb8",
   "metadata": {},
   "outputs": [],
   "source": [
    "# join different entries correspoding to the same user\n",
    "cus_df=ordperrow.groupby(by=['CustomerID'])['BasketPrice'].agg(['count','min','max','mean','sum'])\n",
    "\n",
    "# percentage amount spend in a particular Category by a customer\n",
    "for i in range(n_clusters):\n",
    "    col = 'Category{}'.format(i)\n",
    "    cus_df.loc[:,col] = (ordperrow.groupby(by=['CustomerID'])[col].sum()/cus_df['sum'])*100\n",
    "\n",
    "cus_df.reset_index(drop = False, inplace = True)\n",
    "ordperrow.groupby(by=['CustomerID'])['Category0'].sum()\n",
    "cus_df.sort_values('CustomerID', ascending = True)[:5]\n",
    " "
   ]
  },
  {
   "cell_type": "markdown",
   "id": "eead655c",
   "metadata": {},
   "source": [
    "## Add Variables: *_FirstPurchase_* and *_LastPurchase_*"
   ]
  },
  {
   "cell_type": "code",
   "execution_count": null,
   "id": "cd37da8b",
   "metadata": {},
   "outputs": [],
   "source": [
    "ld = ordperrow['InvoiceDate'].max().date()\n",
    "\n",
    "# find the first purchase and last purchase of every user\n",
    "pf = pd.DataFrame(ordperrow.groupby(by=['CustomerID'])['InvoiceDate'].min())\n",
    "pl = pd.DataFrame(ordperrow.groupby(by=['CustomerID'])['InvoiceDate'].max())\n",
    "\n",
    "# number of days since first and last purchase\n",
    "dpf = pf.applymap(lambda x:(ld-x.date()).days)\n",
    "dpl = pl.applymap(lambda x:(ld-x.date()).days)\n",
    "\n",
    "# add new variables\n",
    "cus_df.loc[:,'LastPurchase'] = dpl.reset_index(drop=False)['InvoiceDate']\n",
    "cus_df.loc[:,'FirstPurchase'] = dpf.reset_index(drop=False)['InvoiceDate']\n",
    "\n",
    "# customer dataFrame\n",
    "display(cus_df.head())"
   ]
  },
  {
   "cell_type": "code",
   "execution_count": null,
   "id": "b950edbb",
   "metadata": {},
   "outputs": [],
   "source": [
    "# number of customers who only bought once\n",
    "print('One time customers are:',cus_df[cus_df['count']==1].shape[0],',which are:',100*(cus_df[cus_df['count']==1].shape[0]/cus_df.shape[0]),'%')"
   ]
  },
  {
   "cell_type": "markdown",
   "id": "caa05098",
   "metadata": {},
   "source": [
    "### <font color=\"green\">Insights-10</font>\n",
    "- **40%** or **1445** of the customers only made one purchase.\n",
    "- One of the objective can be to target these users to **retain them**."
   ]
  },
  {
   "cell_type": "markdown",
   "id": "7b4e5a29",
   "metadata": {},
   "source": [
    "## <font color=\"blue\">_Categorize Customers_</font>"
   ]
  },
  {
   "cell_type": "code",
   "execution_count": null,
   "id": "2b2c8d82",
   "metadata": {},
   "outputs": [],
   "source": [
    "#convert dataFrame to matrix by only using important columns\n",
    "tmpc = cus_df.copy(deep=True)\n",
    "tmpc.drop(['sum','CustomerID','LastPurchase','FirstPurchase'],axis=1,inplace=True)\n",
    "cmat = tmpc.values\n",
    "\n",
    "scaler = StandardScaler()\n",
    "scaler.fit(cmat)\n",
    "\n",
    "# different variables have different ranges and different variation\n",
    "print('Mean Values of Attributes',scaler.mean_)\n",
    "\n",
    "# standardize the data\n",
    "cmat = scaler.transform(cmat)"
   ]
  },
  {
   "cell_type": "markdown",
   "id": "d709d9c4",
   "metadata": {},
   "source": [
    "## KMeans Clustering: Customer Categories"
   ]
  },
  {
   "cell_type": "code",
   "execution_count": null,
   "id": "79c651e9",
   "metadata": {},
   "outputs": [],
   "source": [
    "#check for optimal number of clusters.\n",
    "ncl = []\n",
    "distor = []\n",
    "silhouette_s = []\n",
    "cal_hara_s = []\n",
    "for num_clusters in range(3,20):\n",
    "    ncl.append(num_clusters)\n",
    "    kmean = KMeans(init='k-means++',n_clusters = num_clusters, n_init=100,random_state=42)\n",
    "    kmean.fit(cmat)\n",
    "    cl = kmean.fit_predict(cmat)\n",
    "    sc = silhouette_score(cmat,cl)\n",
    "    distor.append(kmean.inertia_)\n",
    "    cal_hara_s.append(calinski_harabasz_score(cmat,cl))\n",
    "    silhouette_s.append(sc)\n",
    "    print('The Average silhouette score for',num_clusters,'is:',sc)"
   ]
  },
  {
   "cell_type": "markdown",
   "id": "7b99fecd",
   "metadata": {},
   "source": [
    "### <font color=\"green\">Insights-11</font>\n",
    "- KMeans instead of Kmode because as the **matrix is not binary**.\n",
    "- We can see, the average silhouette score is highest for **11** clusters.\n",
    "- The distinctness of the clusters can be verified using **PCA**."
   ]
  },
  {
   "cell_type": "code",
   "execution_count": null,
   "id": "84641d97",
   "metadata": {},
   "outputs": [],
   "source": [
    "#visualizers for silhouette scores,distortions and calinski harabasz score \n",
    "fig, axes = plt.subplots(3, 1, figsize=(12, 20))\n",
    "\n",
    "fig.suptitle('Optimal Cluster Visualization through Scores',fontsize=22)\n",
    "\n",
    "l1 = sns.lineplot(ax=axes[0],data=pd.DataFrame({'Cluster':ncl,'Silhouette':silhouette_s}),x='Cluster',y='Silhouette',marker=\"o\")\n",
    "l1.set_title('Silhouette Score vs Clusters',fontsize=18)\n",
    "l1.set_ylabel('Silhouette Score',fontsize=14)\n",
    "l1.set_xlabel('Number of Clusters',fontsize=14)\n",
    "l1.set_xticks(ncl)\n",
    "\n",
    "l2 = sns.lineplot(ax=axes[1],data=pd.DataFrame({'Cluster':ncl,'Calinski':cal_hara_s}),x='Cluster',y='Calinski',marker=\"o\")\n",
    "l2.set_title('Calinski Harabasz Score vs Clusters',fontsize=18)\n",
    "l2.set_ylabel('Calinski Harabasz Score',fontsize=14)\n",
    "l2.set_xlabel('Number of Clusters',fontsize=14)\n",
    "l2.set_xticks(ncl)\n",
    "\n",
    "l3 = sns.lineplot(ax=axes[2],data=pd.DataFrame({'Cluster':ncl,'Distortion':distor}),x='Cluster',y='Distortion',marker=\"o\")\n",
    "l3.set_title('Distortion Score vs Clusters',fontsize=18)\n",
    "l3.set_ylabel('Distotion Score',fontsize=14)\n",
    "l3.set_xlabel('Number of Clusters',fontsize=14)\n",
    "l3.set_xticks(ncl)\n",
    "\n",
    "plt.show()"
   ]
  },
  {
   "cell_type": "markdown",
   "id": "017d2439",
   "metadata": {},
   "source": [
    "## Customer Distribution"
   ]
  },
  {
   "cell_type": "code",
   "execution_count": null,
   "id": "092b31ad",
   "metadata": {},
   "outputs": [],
   "source": [
    "# customer distribution data\n",
    "n_clusters=11\n",
    "fkmean = KMeans(init='k-means++',n_clusters = n_clusters, n_init=100,random_state=42);\n",
    "cl = fkmean.fit_predict(cmat)\n",
    "display(pd.DataFrame({'Class':pd.Series(cl).value_counts().index,'Frequency':pd.Series(cl).value_counts()}))"
   ]
  },
  {
   "cell_type": "code",
   "execution_count": null,
   "id": "11378ca5",
   "metadata": {},
   "outputs": [],
   "source": [
    "#silhouette visualizer\n",
    "sil_viz = SilhouetteVisualizer(fkmean)\n",
    "\n",
    "plt.figure(figsize=(10,10))\n",
    "sil_viz.fit(cmat)\n",
    "sil_viz.poof()\n"
   ]
  },
  {
   "cell_type": "markdown",
   "id": "8fe28388",
   "metadata": {},
   "source": [
    "## Customer Morphotype \n",
    "- Understand the habits of the customers in each cluster"
   ]
  },
  {
   "cell_type": "code",
   "execution_count": null,
   "id": "48e1ede8",
   "metadata": {},
   "outputs": [],
   "source": [
    "# add new column of cluster Class\n",
    "cus_df.loc[:,'Cluster'] = cl\n",
    "cusmerge = pd.DataFrame()\n",
    "\n",
    "for i in range(n_clusters):\n",
    "    t = pd.DataFrame(cus_df[cus_df['Cluster']==i].mean())\n",
    "    t = t.T.set_index('Cluster', drop = True)\n",
    "    t['size'] = cus_df[cus_df['Cluster']==i].shape[0]\n",
    "    cusmerge = pd.concat([cusmerge,t])\n",
    "\n",
    "cusmerge.drop('CustomerID', axis = 1, inplace = True)\n",
    "print('Total number of customers',cusmerge['size'].sum())\n",
    "\n",
    "cusmerge = cusmerge.sort_values('sum',ascending=False)\n",
    "\n",
    "list_ind = []\n",
    "for i in range(5):\n",
    "    column = 'Category{}'.format(i)\n",
    "    list_ind.append(cusmerge[cusmerge[column] > 45].index.values[0])\n",
    "\n",
    "list_ind_reorder = list_ind\n",
    "list_ind_reorder += [ s for s in cusmerge.index if s not in list_ind]\n",
    "\n",
    "cusmerge = cusmerge.reindex(index = list_ind_reorder)\n",
    "cusmerge = cusmerge.reset_index(drop = False)\n",
    "display(cusmerge[['Cluster', 'count', 'min', 'max', 'mean', 'sum', 'Category0',\n",
    "                   'Category1', 'Category2', 'Category3', 'Category0', 'size']])"
   ]
  },
  {
   "cell_type": "markdown",
   "id": "d86fd59d",
   "metadata": {},
   "source": [
    "## Customer Morphology"
   ]
  },
  {
   "cell_type": "code",
   "execution_count": null,
   "id": "8bdc5c21",
   "metadata": {},
   "outputs": [],
   "source": [
    "def _scale_data(data, ranges):\n",
    "    (x1, x2) = ranges[0]\n",
    "    d = data[0]\n",
    "    return [(d - y1) / (y2 - y1) * (x2 - x1) + x1 for d, (y1, y2) in zip(data, ranges)]\n",
    "\n",
    "class RadarChart():\n",
    "    def __init__(self, fig, location, sizes, variables, ranges, n_ordinate_levels = 6):\n",
    "\n",
    "        angles = np.arange(0, 360, 360./len(variables))\n",
    "\n",
    "        ix, iy = location[:] ; size_x, size_y = sizes[:]\n",
    "        \n",
    "        axes = [fig.add_axes([ix, iy, size_x, size_y], polar = True, \n",
    "        label = \"axes{}\".format(i)) for i in range(len(variables))]\n",
    "\n",
    "        _, text = axes[0].set_thetagrids(angles, labels = variables)\n",
    "        \n",
    "        for txt, angle in zip(text, angles):\n",
    "            if angle > -1 and angle < 181:\n",
    "                txt.set_rotation(angle - 90)\n",
    "            else:\n",
    "                txt.set_rotation(angle - 270)\n",
    "        \n",
    "        for ax in axes[1:]:\n",
    "            ax.patch.set_visible(False)\n",
    "            ax.xaxis.set_visible(False)\n",
    "            ax.grid(\"off\")\n",
    "        \n",
    "        for i, ax in enumerate(axes):\n",
    "            grid = np.linspace(*ranges[i],num = n_ordinate_levels)\n",
    "            gridlabel = [\"{}\".format(round(x,2)) for x in grid]\n",
    "            gridlabel[0] = \"\" # clean up origin\n",
    "            ax.set_rgrids(grid, labels = gridlabel, angle = angles[i])\n",
    "            ax.set_ylim(*ranges[i])\n",
    "        \n",
    "        self.angle = np.deg2rad(np.r_[angles, angles[0]])\n",
    "        self.ranges = ranges\n",
    "        self.ax = axes[0]\n",
    "                \n",
    "    def plot(self, data, *args, **kw):\n",
    "        sdata = _scale_data(data, self.ranges)\n",
    "        self.ax.plot(self.angle, np.r_[sdata, sdata[0]], *args, **kw)\n",
    "\n",
    "    def fill(self, data, *args, **kw):\n",
    "        sdata = _scale_data(data, self.ranges)\n",
    "        self.ax.fill(self.angle, np.r_[sdata, sdata[0]], *args, **kw)\n",
    "\n",
    "    def legend(self, *args, **kw):\n",
    "        self.ax.legend(*args, **kw)\n",
    "        \n",
    "    def title(self, title, *args, **kw):\n",
    "        self.ax.text(0.9, 1, title, transform = self.ax.transAxes, *args, **kw)\n",
    "        \n",
    "fig = plt.figure(figsize=(12,14))\n",
    "\n",
    "attributes = ['count', 'mean', 'sum', 'Category0', 'Category1', 'Category2', 'Category3', 'Category4']\n",
    "ranges = [[0.01, 10], [0.01, 1500], [0.01, 10000], [0.01, 75], [0.01, 75], [0.01, 75], [0.01, 75], [0.01, 75]]\n",
    "index  = [0, 1, 2, 3, 4, 5, 6, 7, 8, 9, 10, 11, 12]\n",
    "\n",
    "n_groups = n_clusters ; i_cols = 3\n",
    "i_rows = n_groups//i_cols\n",
    "size_x, size_y = (1/i_cols), (1/i_rows)\n",
    "\n",
    "for ind in range(n_clusters):\n",
    "    ix = ind%3 ; iy = i_rows - ind//3\n",
    "    pos_x = ix*(size_x + 0.05) ; pos_y = iy*(size_y + 0.05)            \n",
    "    location = [pos_x, pos_y]  ; sizes = [size_x, size_y] \n",
    "    #______________________________________________________\n",
    "    data = np.array(cusmerge.loc[index[ind], attributes])    \n",
    "    radar = RadarChart(fig, location, sizes, attributes, ranges)\n",
    "    radar.plot(data, color = 'b', linewidth=2.0)\n",
    "    radar.fill(data, alpha = 0.2, color = 'b')\n",
    "    radar.title(title = 'cluster nº{}'.format(index[ind]), color = 'r')\n",
    "    ind += 1 "
   ]
  },
  {
   "cell_type": "markdown",
   "id": "868123c4",
   "metadata": {},
   "source": [
    "### <font color=\"green\">Insights-12</font>\n",
    "- We can see that the first **5 clusters** correspond to a strong preponderance of **_purchases in a particular categories_.**\n",
    "- Other clusters differ from **mean(Order Average), sum(Total Order Amount), and count(Number of Visits Made)."
   ]
  },
  {
   "cell_type": "markdown",
   "id": "149d3b50",
   "metadata": {},
   "source": [
    "# <font color=blue>*Customer Classification*</font>"
   ]
  },
  {
   "cell_type": "markdown",
   "id": "daf53565",
   "metadata": {},
   "source": [
    "- **Objective**: Classification possible at first visit.\n",
    "- In order to simplify the use of sklearn classifiers, we will create an class to interface several common functionalities."
   ]
  },
  {
   "cell_type": "code",
   "execution_count": null,
   "id": "f8b89776",
   "metadata": {},
   "outputs": [],
   "source": [
    "# interface class to classifiers\n",
    "class Class_Fit(object):\n",
    "    def __init__(self, clf, params=None):\n",
    "        if params:            \n",
    "            self.clf = clf(**params)\n",
    "        else:\n",
    "            self.clf = clf()\n",
    "\n",
    "    def train(self, x_train, y_train):\n",
    "        self.clf.fit(x_train, y_train)\n",
    "\n",
    "    def predict(self, x):\n",
    "        return self.clf.predict(x)\n",
    "    \n",
    "    # using RandomizedSearchCV instead of GridSearchCV\n",
    "    def grid_search(self, parameters, Kfold):\n",
    "        self.grid = GridSearchCV(estimator = self.clf, param_grid = parameters, cv = Kfold,refit=True)\n",
    "        \n",
    "    def grid_fit(self, X, Y):\n",
    "        self.grid.fit(X, Y)\n",
    "    \n",
    "    def get_grid_best_params(self):\n",
    "        print(\"Best Parameters are\",self.grid.best_params_)\n",
    "        \n",
    "    def grid_predict(self, X, Y):\n",
    "        self.predictions = self.grid.predict(X)\n",
    "        print(\"Precision: {:.2f} % \".format(100*accuracy_score(Y, self.predictions)))"
   ]
  },
  {
   "cell_type": "markdown",
   "id": "8047a36f",
   "metadata": {},
   "source": [
    "## Learning Curve Function\n",
    "- It allows us to detect possible flaws in the model."
   ]
  },
  {
   "cell_type": "code",
   "execution_count": null,
   "id": "526baa8c",
   "metadata": {},
   "outputs": [],
   "source": [
    "def plot_learning_curve(estimator, title, X, y, ylim=None, cv=None,n_jobs=-1, train_sizes=np.linspace(.1, 1.0, 10)):\n",
    "    plt.figure()\n",
    "    plt.title(title,fontsize=15)\n",
    "    if ylim is not None:\n",
    "        plt.ylim(*ylim)\n",
    "    plt.xlabel(\"Training Samples\",fontsize=12)\n",
    "    plt.ylabel(\"Scores\",fontsize=12)\n",
    "    train_sizes, train_scores, test_scores = learning_curve(\n",
    "        estimator, X, y, cv=cv, n_jobs=n_jobs, train_sizes=train_sizes)\n",
    "    train_scores_mean = np.mean(train_scores, axis=1)\n",
    "    train_scores_std = np.std(train_scores, axis=1)\n",
    "    test_scores_mean = np.mean(test_scores, axis=1)\n",
    "    test_scores_std = np.std(test_scores, axis=1)\n",
    "    plt.grid()\n",
    "\n",
    "    plt.fill_between(train_sizes, train_scores_mean - train_scores_std,\n",
    "                     train_scores_mean + train_scores_std, alpha=0.1, color=\"r\")\n",
    "    plt.fill_between(train_sizes, test_scores_mean - test_scores_std,\n",
    "                     test_scores_mean + test_scores_std, alpha=0.1, color=\"g\")\n",
    "    plt.plot(train_sizes, train_scores_mean, 'o-', color=\"r\", label=\"Training score\")\n",
    "    plt.plot(train_sizes, test_scores_mean, 'o-', color=\"g\", label=\"Cross-validation score\")\n",
    "\n",
    "    plt.legend(loc=\"best\")\n",
    "    return plt"
   ]
  },
  {
   "cell_type": "markdown",
   "id": "d0b0ca3b",
   "metadata": {},
   "source": [
    "- We will only keep variables that describe the content of the orders, and won't take into account variables such as frequency of visits or variations of the order price over time."
   ]
  },
  {
   "cell_type": "code",
   "execution_count": null,
   "id": "fd215ae5",
   "metadata": {},
   "outputs": [],
   "source": [
    "# required attributes\n",
    "cols = ['mean','Category0','Category1','Category2','Category3','Category4']\n",
    "X = cus_df[cols]\n",
    "y = cus_df['Cluster']\n",
    "\n",
    "# split dataset into train and test dataset\n",
    "X_train, X_test, y_train, y_test = train_test_split(X, y, train_size = 0.8)"
   ]
  },
  {
   "cell_type": "markdown",
   "id": "ee7309fd",
   "metadata": {},
   "source": [
    "## SVM: RBF\n"
   ]
  },
  {
   "cell_type": "code",
   "execution_count": null,
   "id": "439f57d5",
   "metadata": {},
   "outputs": [],
   "source": [
    "#svm hyper-parameter tuning\n",
    "param_grid = {'C': [0.1, 1, 10, 100, 1000], \n",
    "              'gamma': [1, 0.1, 0.01, 0.001, 0.0001],\n",
    "              'kernel': ['rbf']} \n",
    "\n",
    "svc_rbf = Class_Fit(clf=SVC)\n",
    "svc_rbf.grid_search(param_grid,Kfold=5)\n",
    "svc_rbf.grid_fit(X_train,y_train)\n",
    "svc_rbf.grid_predict(X_test,y_test)\n",
    "\n",
    "svc_rbf.get_grid_best_params()\n",
    "\n"
   ]
  },
  {
   "cell_type": "code",
   "execution_count": null,
   "id": "f6efbda2",
   "metadata": {},
   "outputs": [],
   "source": [
    "# learning curve visualization\n",
    "svc_rbf_g = plot_learning_curve(svc_rbf.grid.best_estimator_,\n",
    "                        \"SVC learning curves\", X_train, y_train, ylim = [1.01, 0.6], cv = 5, train_sizes = [0.05, 0.1, 0.2, 0.3, 0.4, 0.5,0.6, 0.7, 0.8, 0.9, 1])"
   ]
  },
  {
   "cell_type": "markdown",
   "id": "1356f809",
   "metadata": {},
   "source": [
    "### <font color=\"green\">Insights-SVM</font>\n",
    "- **No underfitting**:\n",
    "- Other clusters differ from **mean(Order Average), sum(Total Order Amount), and count(Number of Visits Made)."
   ]
  },
  {
   "cell_type": "markdown",
   "id": "0b91de19",
   "metadata": {},
   "source": [
    "## Logistic Regression"
   ]
  },
  {
   "cell_type": "code",
   "execution_count": null,
   "id": "4d77dc7b",
   "metadata": {},
   "outputs": [],
   "source": [
    "#logistic Regression hyper-parameter tuning\n",
    "param_grid = {'C':np.logspace(-2,2,20)} \n",
    "\n",
    "lr = Class_Fit(clf=LogisticRegression)\n",
    "lr.grid_search(param_grid,Kfold=5)\n",
    "lr.grid_fit(X_train,y_train)\n",
    "lr.grid_predict(X_test,y_test)\n",
    "\n",
    "lr.get_grid_best_params()\n"
   ]
  },
  {
   "cell_type": "code",
   "execution_count": null,
   "id": "84f01842",
   "metadata": {},
   "outputs": [],
   "source": [
    "# learning curve visualization\n",
    "lr_g = plot_learning_curve(lr.grid.best_estimator_,\n",
    "                        \"Logistic Regression learning curves\", X_train, y_train, ylim = [1.01, 0.6], cv = 5, train_sizes = [0.05, 0.1, 0.2, 0.3, 0.4, 0.5,0.6, 0.7, 0.8, 0.9, 1])"
   ]
  },
  {
   "cell_type": "markdown",
   "id": "e51b5c45",
   "metadata": {},
   "source": [
    "## K-Nearest Neighbors"
   ]
  },
  {
   "cell_type": "code",
   "execution_count": null,
   "id": "a3a247fd",
   "metadata": {},
   "outputs": [],
   "source": [
    "#K-Nearest Neighbors hyper-parameter tuning\n",
    "param_grid = {'n_neighbors': np.arange(1,50,1),'p':[1,2]} \n",
    "\n",
    "knn = Class_Fit(clf=KNeighborsClassifier)\n",
    "knn.grid_search(param_grid,Kfold=5)\n",
    "knn.grid_fit(X_train,y_train)\n",
    "knn.grid_predict(X_test,y_test)\n",
    "\n",
    "knn.get_grid_best_params()\n"
   ]
  },
  {
   "cell_type": "code",
   "execution_count": null,
   "id": "c7c250aa",
   "metadata": {},
   "outputs": [],
   "source": [
    "# learning curve visualization\n",
    "knn_g = plot_learning_curve(knn.grid.best_estimator_,\n",
    "                        \"K-Nearest Neighbors learning curves\", X_train, y_train, ylim = [1.01, 0.6], cv = 5, train_sizes = [0.05, 0.1, 0.2, 0.3, 0.4, 0.5,0.6, 0.7, 0.8, 0.9, 1])"
   ]
  },
  {
   "cell_type": "markdown",
   "id": "ce8a8b61",
   "metadata": {},
   "source": [
    "## Decision Tree"
   ]
  },
  {
   "cell_type": "code",
   "execution_count": null,
   "id": "b90a83c4",
   "metadata": {},
   "outputs": [],
   "source": [
    "#Decision Tree hyper-parameter tuning\n",
    "param_grid = {'criterion' : ['entropy', 'gini'], 'max_features' :['sqrt', 'log2']}\n",
    "dt = Class_Fit(clf=DecisionTreeClassifier)\n",
    "dt.grid_search(param_grid,Kfold=5)\n",
    "dt.grid_fit(X_train,y_train)\n",
    "dt.grid_predict(X_test,y_test)\n",
    "\n",
    "dt.get_grid_best_params()\n"
   ]
  },
  {
   "cell_type": "code",
   "execution_count": null,
   "id": "6838ca99",
   "metadata": {},
   "outputs": [],
   "source": [
    "# learning curve visualization\n",
    "dt_g = plot_learning_curve(dt.grid.best_estimator_,\n",
    "                        \"Decision Tree learning curves\", X_train, y_train, ylim = [1.01, 0.6], cv = 5, train_sizes = [0.05, 0.1, 0.2, 0.3, 0.4, 0.5,0.6, 0.7, 0.8, 0.9, 1])"
   ]
  },
  {
   "cell_type": "markdown",
   "id": "b25d539d",
   "metadata": {},
   "source": [
    "## Random Forest Classifier"
   ]
  },
  {
   "cell_type": "code",
   "execution_count": null,
   "id": "dbdcd0f9",
   "metadata": {},
   "outputs": [],
   "source": [
    "#Random Forest Classifier hyper-parameter tuning\n",
    "param_grid = {'criterion' : ['entropy', 'gini'], 'n_estimators' : [20, 40, 60, 80, 100],'max_features' :['sqrt', 'log2']}\n",
    "rfc = Class_Fit(clf=RandomForestClassifier)\n",
    "rfc.grid_search(param_grid,Kfold=5)\n",
    "rfc.grid_fit(X_train,y_train)\n",
    "rfc.grid_predict(X_test,y_test)\n",
    "\n",
    "rfc.get_grid_best_params()\n"
   ]
  },
  {
   "cell_type": "code",
   "execution_count": null,
   "id": "3af0607e",
   "metadata": {},
   "outputs": [],
   "source": [
    "# learning curve visualization\n",
    "rfc_g = plot_learning_curve(rfc.grid.best_estimator_,\n",
    "                        \"Random Forest Classifier curves\", X_train, y_train, ylim = [1.01, 0.6], cv = 5, train_sizes = [0.05, 0.1, 0.2, 0.3, 0.4, 0.5,0.6, 0.7, 0.8, 0.9, 1])"
   ]
  },
  {
   "cell_type": "markdown",
   "id": "a4435b34",
   "metadata": {},
   "source": [
    "## AdaBoost Classifier"
   ]
  },
  {
   "cell_type": "code",
   "execution_count": null,
   "id": "a23d7c3c",
   "metadata": {},
   "outputs": [],
   "source": [
    "#AdaBoost Classifier hyper-parameter tuning\n",
    "param_grid = {'n_estimators' : [10, 20, 30, 40, 50, 60, 70, 80, 90, 100]}\n",
    "abc = Class_Fit(clf=AdaBoostClassifier)\n",
    "abc.grid_search(param_grid,Kfold=5)\n",
    "abc.grid_fit(X_train,y_train)\n",
    "abc.grid_predict(X_test,y_test)\n",
    "\n",
    "abc.get_grid_best_params()"
   ]
  },
  {
   "cell_type": "code",
   "execution_count": null,
   "id": "07116298",
   "metadata": {},
   "outputs": [],
   "source": [
    "# learning curve visualization\n",
    "abc_g = plot_learning_curve(abc.grid.best_estimator_,\n",
    "                        \"AdaBoost Classifier curves\", X_train, y_train, ylim = [1.01, 0.4], cv = 5, train_sizes = [0.05, 0.1, 0.2, 0.3, 0.4, 0.5,0.6, 0.7, 0.8, 0.9, 1])"
   ]
  },
  {
   "cell_type": "markdown",
   "id": "5aa6e111",
   "metadata": {},
   "source": [
    "## Gradient Boosting Classifier"
   ]
  },
  {
   "cell_type": "code",
   "execution_count": null,
   "id": "68cdb2dc",
   "metadata": {},
   "outputs": [],
   "source": [
    "#Gradient Boosting Classifier hyper-parameter tuning\n",
    "param_grid = {\n",
    "    'n_estimators':[10,20,30,40,50,60,70,80,90,100]\n",
    "}\n",
    "\n",
    "gbc = Class_Fit(clf=GradientBoostingClassifier)\n",
    "gbc.grid_search(param_grid,Kfold=5)\n",
    "gbc.grid_fit(X_train,y_train)\n",
    "gbc.grid_predict(X_test,y_test)\n",
    "\n",
    "gbc.get_grid_best_params()"
   ]
  },
  {
   "cell_type": "code",
   "execution_count": null,
   "id": "09a826db",
   "metadata": {},
   "outputs": [],
   "source": [
    "# learning curve visualization\n",
    "gbc_g = plot_learning_curve(gbc.grid.best_estimator_,\n",
    "                        \"Gradient Boosting Classifier curves\", X_train, y_train, ylim = [1.01, 0.6], cv = 5, train_sizes = [0.05, 0.1, 0.2, 0.3, 0.4, 0.5,0.6, 0.7, 0.8, 0.9, 1])"
   ]
  },
  {
   "cell_type": "markdown",
   "id": "5efd8a35",
   "metadata": {},
   "source": [
    "## Voting Classifier "
   ]
  },
  {
   "cell_type": "code",
   "execution_count": null,
   "id": "d180dd92",
   "metadata": {},
   "outputs": [],
   "source": [
    "rfcb  = RandomForestClassifier(**rfc.grid.best_params_)\n",
    "gbcb  = GradientBoostingClassifier(**gbc.grid.best_params_)\n",
    "knnb = KNeighborsClassifier(**knn.grid.best_params_)\n",
    "lrb  = LogisticRegression(**lr.grid.best_params_)\n",
    "dtb = DecisionTreeClassifier(**dt.grid.best_params_)\n",
    "abcb = AdaBoostClassifier(**abc.grid.best_params_)\n",
    "\n",
    "voting = VotingClassifier(estimators=[('rf',rfcb),('gb',gbcb),('knn',knnb),('lr',lrb)],voting='soft')\n",
    "voting = voting.fit(X_train,y_train)\n",
    "pred = voting.predict(X_test)\n",
    "\n",
    "print(\"Precision: {:.2f} % \".format(100*accuracy_score(y_test, pred)))"
   ]
  },
  {
   "cell_type": "markdown",
   "id": "c1a66200",
   "metadata": {},
   "source": [
    "\n",
    "# <font color=blue>*Prediction testing on last Two Months data*</font>"
   ]
  },
  {
   "cell_type": "markdown",
   "id": "7b26ce10",
   "metadata": {},
   "source": [
    "## Key Points\n",
    "- Time difference between the training set and test set.\n",
    "- We will update **sum** and **count** attributes to main test set **equivalent** to training set.\n",
    "- Final matrix processing is similar to the one done in the training set."
   ]
  },
  {
   "cell_type": "code",
   "execution_count": null,
   "id": "82ffab42",
   "metadata": {},
   "outputs": [],
   "source": [
    "# same process as done in the training set above\n",
    "test_f = test_set.copy(deep=True)\n",
    "\n",
    "test_df = test_f.groupby(by=['CustomerID'])['BasketPrice'].agg(['count','min','max','mean','sum'])\n",
    "\n",
    "for i in range(5):\n",
    "    col = 'Category{}'.format(i)\n",
    "    test_df.loc[:,col] = (test_f.groupby(by=['CustomerID'])[col].sum()/test_df['sum'])*100\n",
    "    \n",
    "test_df.reset_index(drop=False,inplace=True)\n",
    "test_f.groupby(by=['CustomerID'])['Category0'].sum()\n",
    "\n",
    "test_df['count'] = 5*test_df['count']\n",
    "test_df['sum'] = test_df['count']*test_df['mean']\n",
    "\n",
    "display(test_df.sort_values('CustomerID',ascending=True)[:5])\n",
    "\n",
    "# keep the columns important to the classification\n",
    "li_cols = ['count','min','max','mean','Category0','Category1','Category2','Category3','Category4']\n",
    "test_mat = test_df[li_cols].values\n",
    "# normalization of matrix\n",
    "f_mat = scaler.transform(test_mat)"
   ]
  },
  {
   "cell_type": "markdown",
   "id": "874e0b1d",
   "metadata": {},
   "source": [
    "## Classification of TestData into 11 Clusters\n",
    "- Each line in a matrix contains the **buying habits** of the customer.\n",
    "- We still are preparing the test data.\n",
    "- **Benchmark**: Classify test data into **11 Clusters** using the **KMeans** model used in the training set.\n",
    "- These Cluster Classification values will act as the test data for the main classifier.\n",
    "- **VotingClassifier** uses restricted variables that will be defined from the first purchase.\n",
    "- Finally, we will compare the predictions of **VotingClassifier** with **BenchmarkKMeansModel**."
   ]
  },
  {
   "cell_type": "code",
   "execution_count": null,
   "id": "d640acba",
   "metadata": {},
   "outputs": [],
   "source": [
    "# benchmark KMeans Model \n",
    "test_y = fkmean.predict(f_mat)"
   ]
  },
  {
   "cell_type": "code",
   "execution_count": null,
   "id": "dd337ec6",
   "metadata": {},
   "outputs": [],
   "source": [
    "vcols = ['mean','Category0','Category1','Category2','Category3','Category4']\n",
    "test_X = test_df[vcols]"
   ]
  },
  {
   "cell_type": "code",
   "execution_count": null,
   "id": "f1c92182",
   "metadata": {},
   "outputs": [],
   "source": [
    "# all the classifiers which were used in the training set\n",
    "clsfiers = [(svc_rbf,'Suppport Vector Machine'),\n",
    "            (lr,'Logistic Regression'),\n",
    "            (knn,'KNearest Neighbors'),\n",
    "            (dt,'Decision Tree'),\n",
    "            (rfc,'Random Forest Classifier'),\n",
    "            (abc,'AdaBoost Classifier'),\n",
    "            (gbc,'Gradient Boosting Classifier')\n",
    "           ]\n",
    "\n",
    "cls_dic = {}\n",
    "for clf, label in clsfiers:\n",
    "    print(label)\n",
    "    clf.grid_predict(test_X,test_y)\n",
    "    print('------------------------------------------------')"
   ]
  },
  {
   "cell_type": "code",
   "execution_count": null,
   "id": "3c16959d",
   "metadata": {},
   "outputs": [],
   "source": [
    "# final precision calculation of voting classifier\n",
    "predictions = voting.predict(test_X)\n",
    "print(\"Precision: {:.2f} % \".format(100*accuracy_score(test_y, predictions)))"
   ]
  },
  {
   "cell_type": "code",
   "execution_count": null,
   "id": "aec0c0d3",
   "metadata": {},
   "outputs": [],
   "source": []
  }
 ],
 "metadata": {
  "kernelspec": {
   "display_name": "Python 3 (ipykernel)",
   "language": "python",
   "name": "python3"
  },
  "language_info": {
   "codemirror_mode": {
    "name": "ipython",
    "version": 3
   },
   "file_extension": ".py",
   "mimetype": "text/x-python",
   "name": "python",
   "nbconvert_exporter": "python",
   "pygments_lexer": "ipython3",
   "version": "3.9.6"
  }
 },
 "nbformat": 4,
 "nbformat_minor": 5
}
